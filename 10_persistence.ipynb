{
  "cells": [
    {
      "cell_type": "code",
      "metadata": {
        "colab": {
          "base_uri": "https://localhost:8080/"
        },
        "collapsed": true,
        "id": "be57cd4d",
        "outputId": "b5c1b063-2489-4a27-8dd3-fe2c89ff59b7"
      },
      "source": [
        "%pip install langgraph"
      ],
      "id": "be57cd4d",
      "execution_count": 2,
      "outputs": [
        {
          "output_type": "stream",
          "name": "stdout",
          "text": [
            "Collecting langgraph\n",
            "  Downloading langgraph-1.0.1-py3-none-any.whl.metadata (7.4 kB)\n",
            "Requirement already satisfied: langchain-core>=0.1 in /usr/local/lib/python3.12/dist-packages (from langgraph) (0.3.79)\n",
            "Collecting langgraph-checkpoint<4.0.0,>=2.1.0 (from langgraph)\n",
            "  Downloading langgraph_checkpoint-3.0.0-py3-none-any.whl.metadata (4.2 kB)\n",
            "Collecting langgraph-prebuilt<1.1.0,>=1.0.0 (from langgraph)\n",
            "  Downloading langgraph_prebuilt-1.0.1-py3-none-any.whl.metadata (5.0 kB)\n",
            "Collecting langgraph-sdk<0.3.0,>=0.2.2 (from langgraph)\n",
            "  Downloading langgraph_sdk-0.2.9-py3-none-any.whl.metadata (1.5 kB)\n",
            "Requirement already satisfied: pydantic>=2.7.4 in /usr/local/lib/python3.12/dist-packages (from langgraph) (2.11.10)\n",
            "Requirement already satisfied: xxhash>=3.5.0 in /usr/local/lib/python3.12/dist-packages (from langgraph) (3.6.0)\n",
            "Requirement already satisfied: langsmith<1.0.0,>=0.3.45 in /usr/local/lib/python3.12/dist-packages (from langchain-core>=0.1->langgraph) (0.4.37)\n",
            "Requirement already satisfied: tenacity!=8.4.0,<10.0.0,>=8.1.0 in /usr/local/lib/python3.12/dist-packages (from langchain-core>=0.1->langgraph) (8.5.0)\n",
            "Requirement already satisfied: jsonpatch<2.0.0,>=1.33.0 in /usr/local/lib/python3.12/dist-packages (from langchain-core>=0.1->langgraph) (1.33)\n",
            "Requirement already satisfied: PyYAML<7.0.0,>=5.3.0 in /usr/local/lib/python3.12/dist-packages (from langchain-core>=0.1->langgraph) (6.0.3)\n",
            "Requirement already satisfied: typing-extensions<5.0.0,>=4.7.0 in /usr/local/lib/python3.12/dist-packages (from langchain-core>=0.1->langgraph) (4.15.0)\n",
            "Requirement already satisfied: packaging<26.0.0,>=23.2.0 in /usr/local/lib/python3.12/dist-packages (from langchain-core>=0.1->langgraph) (25.0)\n",
            "Collecting ormsgpack>=1.10.0 (from langgraph-checkpoint<4.0.0,>=2.1.0->langgraph)\n",
            "  Downloading ormsgpack-1.11.0-cp312-cp312-manylinux_2_17_x86_64.manylinux2014_x86_64.whl.metadata (1.2 kB)\n",
            "Requirement already satisfied: httpx>=0.25.2 in /usr/local/lib/python3.12/dist-packages (from langgraph-sdk<0.3.0,>=0.2.2->langgraph) (0.28.1)\n",
            "Requirement already satisfied: orjson>=3.10.1 in /usr/local/lib/python3.12/dist-packages (from langgraph-sdk<0.3.0,>=0.2.2->langgraph) (3.11.3)\n",
            "Requirement already satisfied: annotated-types>=0.6.0 in /usr/local/lib/python3.12/dist-packages (from pydantic>=2.7.4->langgraph) (0.7.0)\n",
            "Requirement already satisfied: pydantic-core==2.33.2 in /usr/local/lib/python3.12/dist-packages (from pydantic>=2.7.4->langgraph) (2.33.2)\n",
            "Requirement already satisfied: typing-inspection>=0.4.0 in /usr/local/lib/python3.12/dist-packages (from pydantic>=2.7.4->langgraph) (0.4.2)\n",
            "Requirement already satisfied: anyio in /usr/local/lib/python3.12/dist-packages (from httpx>=0.25.2->langgraph-sdk<0.3.0,>=0.2.2->langgraph) (4.11.0)\n",
            "Requirement already satisfied: certifi in /usr/local/lib/python3.12/dist-packages (from httpx>=0.25.2->langgraph-sdk<0.3.0,>=0.2.2->langgraph) (2025.10.5)\n",
            "Requirement already satisfied: httpcore==1.* in /usr/local/lib/python3.12/dist-packages (from httpx>=0.25.2->langgraph-sdk<0.3.0,>=0.2.2->langgraph) (1.0.9)\n",
            "Requirement already satisfied: idna in /usr/local/lib/python3.12/dist-packages (from httpx>=0.25.2->langgraph-sdk<0.3.0,>=0.2.2->langgraph) (3.11)\n",
            "Requirement already satisfied: h11>=0.16 in /usr/local/lib/python3.12/dist-packages (from httpcore==1.*->httpx>=0.25.2->langgraph-sdk<0.3.0,>=0.2.2->langgraph) (0.16.0)\n",
            "Requirement already satisfied: jsonpointer>=1.9 in /usr/local/lib/python3.12/dist-packages (from jsonpatch<2.0.0,>=1.33.0->langchain-core>=0.1->langgraph) (3.0.0)\n",
            "Requirement already satisfied: requests-toolbelt>=1.0.0 in /usr/local/lib/python3.12/dist-packages (from langsmith<1.0.0,>=0.3.45->langchain-core>=0.1->langgraph) (1.0.0)\n",
            "Requirement already satisfied: requests>=2.0.0 in /usr/local/lib/python3.12/dist-packages (from langsmith<1.0.0,>=0.3.45->langchain-core>=0.1->langgraph) (2.32.4)\n",
            "Requirement already satisfied: zstandard>=0.23.0 in /usr/local/lib/python3.12/dist-packages (from langsmith<1.0.0,>=0.3.45->langchain-core>=0.1->langgraph) (0.25.0)\n",
            "Requirement already satisfied: charset_normalizer<4,>=2 in /usr/local/lib/python3.12/dist-packages (from requests>=2.0.0->langsmith<1.0.0,>=0.3.45->langchain-core>=0.1->langgraph) (3.4.4)\n",
            "Requirement already satisfied: urllib3<3,>=1.21.1 in /usr/local/lib/python3.12/dist-packages (from requests>=2.0.0->langsmith<1.0.0,>=0.3.45->langchain-core>=0.1->langgraph) (2.5.0)\n",
            "Requirement already satisfied: sniffio>=1.1 in /usr/local/lib/python3.12/dist-packages (from anyio->httpx>=0.25.2->langgraph-sdk<0.3.0,>=0.2.2->langgraph) (1.3.1)\n",
            "Downloading langgraph-1.0.1-py3-none-any.whl (155 kB)\n",
            "\u001b[2K   \u001b[90m━━━━━━━━━━━━━━━━━━━━━━━━━━━━━━━━━━━━━━━━\u001b[0m \u001b[32m155.4/155.4 kB\u001b[0m \u001b[31m4.7 MB/s\u001b[0m eta \u001b[36m0:00:00\u001b[0m\n",
            "\u001b[?25hDownloading langgraph_checkpoint-3.0.0-py3-none-any.whl (46 kB)\n",
            "\u001b[2K   \u001b[90m━━━━━━━━━━━━━━━━━━━━━━━━━━━━━━━━━━━━━━━━\u001b[0m \u001b[32m46.1/46.1 kB\u001b[0m \u001b[31m3.1 MB/s\u001b[0m eta \u001b[36m0:00:00\u001b[0m\n",
            "\u001b[?25hDownloading langgraph_prebuilt-1.0.1-py3-none-any.whl (28 kB)\n",
            "Downloading langgraph_sdk-0.2.9-py3-none-any.whl (56 kB)\n",
            "\u001b[2K   \u001b[90m━━━━━━━━━━━━━━━━━━━━━━━━━━━━━━━━━━━━━━━━\u001b[0m \u001b[32m56.8/56.8 kB\u001b[0m \u001b[31m4.6 MB/s\u001b[0m eta \u001b[36m0:00:00\u001b[0m\n",
            "\u001b[?25hDownloading ormsgpack-1.11.0-cp312-cp312-manylinux_2_17_x86_64.manylinux2014_x86_64.whl (207 kB)\n",
            "\u001b[2K   \u001b[90m━━━━━━━━━━━━━━━━━━━━━━━━━━━━━━━━━━━━━━━━\u001b[0m \u001b[32m207.6/207.6 kB\u001b[0m \u001b[31m9.9 MB/s\u001b[0m eta \u001b[36m0:00:00\u001b[0m\n",
            "\u001b[?25hInstalling collected packages: ormsgpack, langgraph-sdk, langgraph-checkpoint, langgraph-prebuilt, langgraph\n",
            "Successfully installed langgraph-1.0.1 langgraph-checkpoint-3.0.0 langgraph-prebuilt-1.0.1 langgraph-sdk-0.2.9 ormsgpack-1.11.0\n"
          ]
        }
      ]
    },
    {
      "cell_type": "code",
      "metadata": {
        "colab": {
          "base_uri": "https://localhost:8080/",
          "height": 932
        },
        "collapsed": true,
        "id": "e6fd6b7a",
        "outputId": "19136238-32da-4c67-8136-f0fe58986943"
      },
      "source": [
        "%pip install langchain-openai"
      ],
      "id": "e6fd6b7a",
      "execution_count": 4,
      "outputs": [
        {
          "output_type": "stream",
          "name": "stdout",
          "text": [
            "Collecting langchain-openai\n",
            "  Downloading langchain_openai-1.0.1-py3-none-any.whl.metadata (1.8 kB)\n",
            "Collecting langchain-core<2.0.0,>=1.0.0 (from langchain-openai)\n",
            "  Downloading langchain_core-1.0.1-py3-none-any.whl.metadata (3.5 kB)\n",
            "Requirement already satisfied: openai<3.0.0,>=1.109.1 in /usr/local/lib/python3.12/dist-packages (from langchain-openai) (1.109.1)\n",
            "Requirement already satisfied: tiktoken<1.0.0,>=0.7.0 in /usr/local/lib/python3.12/dist-packages (from langchain-openai) (0.12.0)\n",
            "Requirement already satisfied: jsonpatch<2.0.0,>=1.33.0 in /usr/local/lib/python3.12/dist-packages (from langchain-core<2.0.0,>=1.0.0->langchain-openai) (1.33)\n",
            "Requirement already satisfied: langsmith<1.0.0,>=0.3.45 in /usr/local/lib/python3.12/dist-packages (from langchain-core<2.0.0,>=1.0.0->langchain-openai) (0.4.37)\n",
            "Requirement already satisfied: packaging<26.0.0,>=23.2.0 in /usr/local/lib/python3.12/dist-packages (from langchain-core<2.0.0,>=1.0.0->langchain-openai) (25.0)\n",
            "Requirement already satisfied: pydantic<3.0.0,>=2.7.4 in /usr/local/lib/python3.12/dist-packages (from langchain-core<2.0.0,>=1.0.0->langchain-openai) (2.11.10)\n",
            "Requirement already satisfied: pyyaml<7.0.0,>=5.3.0 in /usr/local/lib/python3.12/dist-packages (from langchain-core<2.0.0,>=1.0.0->langchain-openai) (6.0.3)\n",
            "Requirement already satisfied: tenacity!=8.4.0,<10.0.0,>=8.1.0 in /usr/local/lib/python3.12/dist-packages (from langchain-core<2.0.0,>=1.0.0->langchain-openai) (8.5.0)\n",
            "Requirement already satisfied: typing-extensions<5.0.0,>=4.7.0 in /usr/local/lib/python3.12/dist-packages (from langchain-core<2.0.0,>=1.0.0->langchain-openai) (4.15.0)\n",
            "Requirement already satisfied: anyio<5,>=3.5.0 in /usr/local/lib/python3.12/dist-packages (from openai<3.0.0,>=1.109.1->langchain-openai) (4.11.0)\n",
            "Requirement already satisfied: distro<2,>=1.7.0 in /usr/local/lib/python3.12/dist-packages (from openai<3.0.0,>=1.109.1->langchain-openai) (1.9.0)\n",
            "Requirement already satisfied: httpx<1,>=0.23.0 in /usr/local/lib/python3.12/dist-packages (from openai<3.0.0,>=1.109.1->langchain-openai) (0.28.1)\n",
            "Requirement already satisfied: jiter<1,>=0.4.0 in /usr/local/lib/python3.12/dist-packages (from openai<3.0.0,>=1.109.1->langchain-openai) (0.11.1)\n",
            "Requirement already satisfied: sniffio in /usr/local/lib/python3.12/dist-packages (from openai<3.0.0,>=1.109.1->langchain-openai) (1.3.1)\n",
            "Requirement already satisfied: tqdm>4 in /usr/local/lib/python3.12/dist-packages (from openai<3.0.0,>=1.109.1->langchain-openai) (4.67.1)\n",
            "Requirement already satisfied: regex>=2022.1.18 in /usr/local/lib/python3.12/dist-packages (from tiktoken<1.0.0,>=0.7.0->langchain-openai) (2024.11.6)\n",
            "Requirement already satisfied: requests>=2.26.0 in /usr/local/lib/python3.12/dist-packages (from tiktoken<1.0.0,>=0.7.0->langchain-openai) (2.32.4)\n",
            "Requirement already satisfied: idna>=2.8 in /usr/local/lib/python3.12/dist-packages (from anyio<5,>=3.5.0->openai<3.0.0,>=1.109.1->langchain-openai) (3.11)\n",
            "Requirement already satisfied: certifi in /usr/local/lib/python3.12/dist-packages (from httpx<1,>=0.23.0->openai<3.0.0,>=1.109.1->langchain-openai) (2025.10.5)\n",
            "Requirement already satisfied: httpcore==1.* in /usr/local/lib/python3.12/dist-packages (from httpx<1,>=0.23.0->openai<3.0.0,>=1.109.1->langchain-openai) (1.0.9)\n",
            "Requirement already satisfied: h11>=0.16 in /usr/local/lib/python3.12/dist-packages (from httpcore==1.*->httpx<1,>=0.23.0->openai<3.0.0,>=1.109.1->langchain-openai) (0.16.0)\n",
            "Requirement already satisfied: jsonpointer>=1.9 in /usr/local/lib/python3.12/dist-packages (from jsonpatch<2.0.0,>=1.33.0->langchain-core<2.0.0,>=1.0.0->langchain-openai) (3.0.0)\n",
            "Requirement already satisfied: orjson>=3.9.14 in /usr/local/lib/python3.12/dist-packages (from langsmith<1.0.0,>=0.3.45->langchain-core<2.0.0,>=1.0.0->langchain-openai) (3.11.3)\n",
            "Requirement already satisfied: requests-toolbelt>=1.0.0 in /usr/local/lib/python3.12/dist-packages (from langsmith<1.0.0,>=0.3.45->langchain-core<2.0.0,>=1.0.0->langchain-openai) (1.0.0)\n",
            "Requirement already satisfied: zstandard>=0.23.0 in /usr/local/lib/python3.12/dist-packages (from langsmith<1.0.0,>=0.3.45->langchain-core<2.0.0,>=1.0.0->langchain-openai) (0.25.0)\n",
            "Requirement already satisfied: annotated-types>=0.6.0 in /usr/local/lib/python3.12/dist-packages (from pydantic<3.0.0,>=2.7.4->langchain-core<2.0.0,>=1.0.0->langchain-openai) (0.7.0)\n",
            "Requirement already satisfied: pydantic-core==2.33.2 in /usr/local/lib/python3.12/dist-packages (from pydantic<3.0.0,>=2.7.4->langchain-core<2.0.0,>=1.0.0->langchain-openai) (2.33.2)\n",
            "Requirement already satisfied: typing-inspection>=0.4.0 in /usr/local/lib/python3.12/dist-packages (from pydantic<3.0.0,>=2.7.4->langchain-core<2.0.0,>=1.0.0->langchain-openai) (0.4.2)\n",
            "Requirement already satisfied: charset_normalizer<4,>=2 in /usr/local/lib/python3.12/dist-packages (from requests>=2.26.0->tiktoken<1.0.0,>=0.7.0->langchain-openai) (3.4.4)\n",
            "Requirement already satisfied: urllib3<3,>=1.21.1 in /usr/local/lib/python3.12/dist-packages (from requests>=2.26.0->tiktoken<1.0.0,>=0.7.0->langchain-openai) (2.5.0)\n",
            "Downloading langchain_openai-1.0.1-py3-none-any.whl (81 kB)\n",
            "\u001b[2K   \u001b[90m━━━━━━━━━━━━━━━━━━━━━━━━━━━━━━━━━━━━━━━━\u001b[0m \u001b[32m81.9/81.9 kB\u001b[0m \u001b[31m3.0 MB/s\u001b[0m eta \u001b[36m0:00:00\u001b[0m\n",
            "\u001b[?25hDownloading langchain_core-1.0.1-py3-none-any.whl (467 kB)\n",
            "\u001b[2K   \u001b[90m━━━━━━━━━━━━━━━━━━━━━━━━━━━━━━━━━━━━━━━━\u001b[0m \u001b[32m467.1/467.1 kB\u001b[0m \u001b[31m11.0 MB/s\u001b[0m eta \u001b[36m0:00:00\u001b[0m\n",
            "\u001b[?25hInstalling collected packages: langchain-core, langchain-openai\n",
            "  Attempting uninstall: langchain-core\n",
            "    Found existing installation: langchain-core 0.3.79\n",
            "    Uninstalling langchain-core-0.3.79:\n",
            "      Successfully uninstalled langchain-core-0.3.79\n",
            "\u001b[31mERROR: pip's dependency resolver does not currently take into account all the packages that are installed. This behaviour is the source of the following dependency conflicts.\n",
            "langchain 0.3.27 requires langchain-core<1.0.0,>=0.3.72, but you have langchain-core 1.0.1 which is incompatible.\u001b[0m\u001b[31m\n",
            "\u001b[0mSuccessfully installed langchain-core-1.0.1 langchain-openai-1.0.1\n"
          ]
        },
        {
          "output_type": "display_data",
          "data": {
            "application/vnd.colab-display-data+json": {
              "pip_warning": {
                "packages": [
                  "langchain_core"
                ]
              },
              "id": "a32f00feb5294a5390611dc57055aaa7"
            }
          },
          "metadata": {}
        }
      ]
    },
    {
      "cell_type": "code",
      "execution_count": 1,
      "id": "5fe01464",
      "metadata": {
        "id": "5fe01464"
      },
      "outputs": [],
      "source": [
        "from langgraph.graph import StateGraph, START, END\n",
        "from typing import TypedDict\n",
        "from langchain_openai import ChatOpenAI\n",
        "from dotenv import load_dotenv\n",
        "from langgraph.checkpoint.memory import InMemorySaver"
      ]
    },
    {
      "cell_type": "code",
      "source": [
        "import os\n",
        "from google.colab import userdata\n",
        "\n",
        "os.environ['OPENAI_API_KEY'] = userdata.get('OPENAI_API_KEY')"
      ],
      "metadata": {
        "id": "mKrJpxBA3TLb"
      },
      "id": "mKrJpxBA3TLb",
      "execution_count": 2,
      "outputs": []
    },
    {
      "cell_type": "code",
      "execution_count": 3,
      "id": "d65bfc11",
      "metadata": {
        "id": "d65bfc11"
      },
      "outputs": [],
      "source": [
        "load_dotenv()\n",
        "\n",
        "llm = ChatOpenAI()"
      ]
    },
    {
      "cell_type": "code",
      "execution_count": 4,
      "id": "5922b899",
      "metadata": {
        "id": "5922b899"
      },
      "outputs": [],
      "source": [
        "class JokeState(TypedDict):\n",
        "\n",
        "    topic: str\n",
        "    joke: str\n",
        "    explanation: str"
      ]
    },
    {
      "cell_type": "code",
      "execution_count": 5,
      "id": "0561076c",
      "metadata": {
        "id": "0561076c"
      },
      "outputs": [],
      "source": [
        "def generate_joke(state: JokeState):\n",
        "\n",
        "    prompt = f'generate a joke on the topic {state[\"topic\"]}'\n",
        "    response = llm.invoke(prompt).content\n",
        "\n",
        "    return {'joke': response}"
      ]
    },
    {
      "cell_type": "code",
      "execution_count": 6,
      "id": "d95ff880",
      "metadata": {
        "id": "d95ff880"
      },
      "outputs": [],
      "source": [
        "def generate_explanation(state: JokeState):\n",
        "\n",
        "    prompt = f'write an explanation for the joke - {state[\"joke\"]}'\n",
        "    response = llm.invoke(prompt).content\n",
        "\n",
        "    return {'explanation': response}"
      ]
    },
    {
      "cell_type": "code",
      "execution_count": 7,
      "id": "a1093470",
      "metadata": {
        "id": "a1093470"
      },
      "outputs": [],
      "source": [
        "graph = StateGraph(JokeState)\n",
        "\n",
        "graph.add_node('generate_joke', generate_joke)\n",
        "graph.add_node('generate_explanation', generate_explanation)\n",
        "\n",
        "graph.add_edge(START, 'generate_joke')\n",
        "graph.add_edge('generate_joke', 'generate_explanation')\n",
        "graph.add_edge('generate_explanation', END)\n",
        "\n",
        "checkpointer = InMemorySaver()\n",
        "\n",
        "workflow = graph.compile(checkpointer=checkpointer)"
      ]
    },
    {
      "cell_type": "code",
      "source": [
        "workflow"
      ],
      "metadata": {
        "colab": {
          "base_uri": "https://localhost:8080/",
          "height": 350
        },
        "id": "SntcSeMw3eyQ",
        "outputId": "7ffea54d-65c0-47c9-ba82-ce286c6aa68d"
      },
      "id": "SntcSeMw3eyQ",
      "execution_count": 8,
      "outputs": [
        {
          "output_type": "execute_result",
          "data": {
            "text/plain": [
              "<langgraph.graph.state.CompiledStateGraph object at 0x7ba59faec530>"
            ],
            "image/png": "[encoded data removed]"
          },
          "metadata": {},
          "execution_count": 8
        }
      ]
    },
    {
      "cell_type": "code",
      "execution_count": 9,
      "id": "5e8f11c8",
      "metadata": {
        "colab": {
          "base_uri": "https://localhost:8080/"
        },
        "id": "5e8f11c8",
        "outputId": "04b48b69-338c-431c-bf7d-5617fc8c2f52"
      },
      "outputs": [
        {
          "output_type": "execute_result",
          "data": {
            "text/plain": [
              "{'topic': 'pizza',\n",
              " 'joke': \"Why did the slice of pizza go to the therapist? Because it had too many toppings and couldn't hold it all together!\",\n",
              " 'explanation': 'This joke plays on the idea of a slice of pizza needing therapy because it couldn\\'t handle all the toppings on it. It\\'s a play on the phrase \"can\\'t hold it all together,\" implying that the slice of pizza is struggling to maintain its shape and composure due to having too many toppings. The humor comes from the absurdity of a slice of pizza seeking therapy for a problem that humans might face, adding a lighthearted and humorous twist to the situation.'}"
            ]
          },
          "metadata": {},
          "execution_count": 9
        }
      ],
      "source": [
        "config1 = {\"configurable\": {\"thread_id\": \"1\"}}\n",
        "workflow.invoke({'topic':'pizza'}, config=config1)"
      ]
    },
    {
      "cell_type": "code",
      "execution_count": 10,
      "id": "a6857b9c",
      "metadata": {
        "colab": {
          "base_uri": "https://localhost:8080/"
        },
        "id": "a6857b9c",
        "outputId": "89bb9a6e-082f-4a33-ed5b-b0feebdcc059"
      },
      "outputs": [
        {
          "output_type": "execute_result",
          "data": {
            "text/plain": [
              "StateSnapshot(values={'topic': 'pizza', 'joke': \"Why did the slice of pizza go to the therapist? Because it had too many toppings and couldn't hold it all together!\", 'explanation': 'This joke plays on the idea of a slice of pizza needing therapy because it couldn\\'t handle all the toppings on it. It\\'s a play on the phrase \"can\\'t hold it all together,\" implying that the slice of pizza is struggling to maintain its shape and composure due to having too many toppings. The humor comes from the absurdity of a slice of pizza seeking therapy for a problem that humans might face, adding a lighthearted and humorous twist to the situation.'}, next=(), config={'configurable': {'thread_id': '1', 'checkpoint_ns': '', 'checkpoint_id': '1f0b3123-6272-6bf7-8002-ad426475277b'}}, metadata={'source': 'loop', 'step': 2, 'parents': {}}, created_at='2025-10-27T08:52:04.780517+00:00', parent_config={'configurable': {'thread_id': '1', 'checkpoint_ns': '', 'checkpoint_id': '1f0b3123-4f53-63c3-8001-5ab9cf20d264'}}, tasks=(), interrupts=())"
            ]
          },
          "metadata": {},
          "execution_count": 10
        }
      ],
      "source": [
        "workflow.get_state(config1)"
      ]
    },
    {
      "cell_type": "code",
      "execution_count": 11,
      "id": "eb9eecda",
      "metadata": {
        "colab": {
          "base_uri": "https://localhost:8080/"
        },
        "id": "eb9eecda",
        "outputId": "d7806d0e-ff3c-42bc-e0d4-5d1c2c272740"
      },
      "outputs": [
        {
          "output_type": "execute_result",
          "data": {
            "text/plain": [
              "[StateSnapshot(values={'topic': 'pizza', 'joke': \"Why did the slice of pizza go to the therapist? Because it had too many toppings and couldn't hold it all together!\", 'explanation': 'This joke plays on the idea of a slice of pizza needing therapy because it couldn\\'t handle all the toppings on it. It\\'s a play on the phrase \"can\\'t hold it all together,\" implying that the slice of pizza is struggling to maintain its shape and composure due to having too many toppings. The humor comes from the absurdity of a slice of pizza seeking therapy for a problem that humans might face, adding a lighthearted and humorous twist to the situation.'}, next=(), config={'configurable': {'thread_id': '1', 'checkpoint_ns': '', 'checkpoint_id': '1f0b3123-6272-6bf7-8002-ad426475277b'}}, metadata={'source': 'loop', 'step': 2, 'parents': {}}, created_at='2025-10-27T08:52:04.780517+00:00', parent_config={'configurable': {'thread_id': '1', 'checkpoint_ns': '', 'checkpoint_id': '1f0b3123-4f53-63c3-8001-5ab9cf20d264'}}, tasks=(), interrupts=()),\n",
              " StateSnapshot(values={'topic': 'pizza', 'joke': \"Why did the slice of pizza go to the therapist? Because it had too many toppings and couldn't hold it all together!\"}, next=('generate_explanation',), config={'configurable': {'thread_id': '1', 'checkpoint_ns': '', 'checkpoint_id': '1f0b3123-4f53-63c3-8001-5ab9cf20d264'}}, metadata={'source': 'loop', 'step': 1, 'parents': {}}, created_at='2025-10-27T08:52:02.775314+00:00', parent_config={'configurable': {'thread_id': '1', 'checkpoint_ns': '', 'checkpoint_id': '1f0b3123-441e-6543-8000-55560655cd54'}}, tasks=(PregelTask(id='6d9f2303-f9dc-f03a-9887-42de4df36c43', name='generate_explanation', path=('__pregel_pull', 'generate_explanation'), error=None, interrupts=(), state=None, result={'explanation': 'This joke plays on the idea of a slice of pizza needing therapy because it couldn\\'t handle all the toppings on it. It\\'s a play on the phrase \"can\\'t hold it all together,\" implying that the slice of pizza is struggling to maintain its shape and composure due to having too many toppings. The humor comes from the absurdity of a slice of pizza seeking therapy for a problem that humans might face, adding a lighthearted and humorous twist to the situation.'}),), interrupts=()),\n",
              " StateSnapshot(values={'topic': 'pizza'}, next=('generate_joke',), config={'configurable': {'thread_id': '1', 'checkpoint_ns': '', 'checkpoint_id': '1f0b3123-441e-6543-8000-55560655cd54'}}, metadata={'source': 'loop', 'step': 0, 'parents': {}}, created_at='2025-10-27T08:52:01.600214+00:00', parent_config={'configurable': {'thread_id': '1', 'checkpoint_ns': '', 'checkpoint_id': '1f0b3123-441a-668c-bfff-79be670ea339'}}, tasks=(PregelTask(id='31bd9c51-9e19-0737-8785-4f5696bd03c7', name='generate_joke', path=('__pregel_pull', 'generate_joke'), error=None, interrupts=(), state=None, result={'joke': \"Why did the slice of pizza go to the therapist? Because it had too many toppings and couldn't hold it all together!\"}),), interrupts=()),\n",
              " StateSnapshot(values={}, next=('__start__',), config={'configurable': {'thread_id': '1', 'checkpoint_ns': '', 'checkpoint_id': '1f0b3123-441a-668c-bfff-79be670ea339'}}, metadata={'source': 'input', 'step': -1, 'parents': {}}, created_at='2025-10-27T08:52:01.598619+00:00', parent_config=None, tasks=(PregelTask(id='81c63577-a8ed-3049-55cc-6091077ee917', name='__start__', path=('__pregel_pull', '__start__'), error=None, interrupts=(), state=None, result={'topic': 'pizza'}),), interrupts=())]"
            ]
          },
          "metadata": {},
          "execution_count": 11
        }
      ],
      "source": [
        "list(workflow.get_state_history(config1))"
      ]
    },
    {
      "cell_type": "code",
      "execution_count": 12,
      "id": "628a9f28",
      "metadata": {
        "colab": {
          "base_uri": "https://localhost:8080/"
        },
        "id": "628a9f28",
        "outputId": "0c22dab1-a0fd-4142-d5e2-0e5a1a49e7d8"
      },
      "outputs": [
        {
          "output_type": "execute_result",
          "data": {
            "text/plain": [
              "{'topic': 'pasta',\n",
              " 'joke': \"Why did the spaghetti break up with the linguine? \\n\\nBecause it couldn't handle the pressure of their twisted relationship!\",\n",
              " 'explanation': 'This joke plays on the literal idea of pasta breaking apart when under pressure, such as when boiling in water. In this context, the spaghetti broke up with the linguine because it couldn\\'t handle the pressure of their relationship, which was described as being \"twisted.\" This is a play on words, as twisted can refer to the shape of the pasta but also suggests a problematic or complicated relationship. Overall, the joke combines a pun with a bit of wordplay to create a humorous situation about pasta breaking up.'}"
            ]
          },
          "metadata": {},
          "execution_count": 12
        }
      ],
      "source": [
        "config2 = {\"configurable\": {\"thread_id\": \"2\"}}\n",
        "workflow.invoke({'topic':'pasta'}, config=config2)"
      ]
    },
    {
      "cell_type": "code",
      "execution_count": 13,
      "id": "eef5beb5",
      "metadata": {
        "colab": {
          "base_uri": "https://localhost:8080/"
        },
        "id": "eef5beb5",
        "outputId": "67a35508-2ca4-4197-f9c5-6bd143a10d8f"
      },
      "outputs": [
        {
          "output_type": "execute_result",
          "data": {
            "text/plain": [
              "StateSnapshot(values={'topic': 'pizza', 'joke': \"Why did the slice of pizza go to the therapist? Because it had too many toppings and couldn't hold it all together!\", 'explanation': 'This joke plays on the idea of a slice of pizza needing therapy because it couldn\\'t handle all the toppings on it. It\\'s a play on the phrase \"can\\'t hold it all together,\" implying that the slice of pizza is struggling to maintain its shape and composure due to having too many toppings. The humor comes from the absurdity of a slice of pizza seeking therapy for a problem that humans might face, adding a lighthearted and humorous twist to the situation.'}, next=(), config={'configurable': {'thread_id': '1', 'checkpoint_ns': '', 'checkpoint_id': '1f0b3123-6272-6bf7-8002-ad426475277b'}}, metadata={'source': 'loop', 'step': 2, 'parents': {}}, created_at='2025-10-27T08:52:04.780517+00:00', parent_config={'configurable': {'thread_id': '1', 'checkpoint_ns': '', 'checkpoint_id': '1f0b3123-4f53-63c3-8001-5ab9cf20d264'}}, tasks=(), interrupts=())"
            ]
          },
          "metadata": {},
          "execution_count": 13
        }
      ],
      "source": [
        "workflow.get_state(config1)"
      ]
    },
    {
      "cell_type": "code",
      "execution_count": 14,
      "id": "f7d0ea21",
      "metadata": {
        "colab": {
          "base_uri": "https://localhost:8080/"
        },
        "id": "f7d0ea21",
        "outputId": "bc4347d8-f38f-4ed1-ce77-4dcd512acc84"
      },
      "outputs": [
        {
          "output_type": "execute_result",
          "data": {
            "text/plain": [
              "[StateSnapshot(values={'topic': 'pizza', 'joke': \"Why did the slice of pizza go to the therapist? Because it had too many toppings and couldn't hold it all together!\", 'explanation': 'This joke plays on the idea of a slice of pizza needing therapy because it couldn\\'t handle all the toppings on it. It\\'s a play on the phrase \"can\\'t hold it all together,\" implying that the slice of pizza is struggling to maintain its shape and composure due to having too many toppings. The humor comes from the absurdity of a slice of pizza seeking therapy for a problem that humans might face, adding a lighthearted and humorous twist to the situation.'}, next=(), config={'configurable': {'thread_id': '1', 'checkpoint_ns': '', 'checkpoint_id': '1f0b3123-6272-6bf7-8002-ad426475277b'}}, metadata={'source': 'loop', 'step': 2, 'parents': {}}, created_at='2025-10-27T08:52:04.780517+00:00', parent_config={'configurable': {'thread_id': '1', 'checkpoint_ns': '', 'checkpoint_id': '1f0b3123-4f53-63c3-8001-5ab9cf20d264'}}, tasks=(), interrupts=()),\n",
              " StateSnapshot(values={'topic': 'pizza', 'joke': \"Why did the slice of pizza go to the therapist? Because it had too many toppings and couldn't hold it all together!\"}, next=('generate_explanation',), config={'configurable': {'thread_id': '1', 'checkpoint_ns': '', 'checkpoint_id': '1f0b3123-4f53-63c3-8001-5ab9cf20d264'}}, metadata={'source': 'loop', 'step': 1, 'parents': {}}, created_at='2025-10-27T08:52:02.775314+00:00', parent_config={'configurable': {'thread_id': '1', 'checkpoint_ns': '', 'checkpoint_id': '1f0b3123-441e-6543-8000-55560655cd54'}}, tasks=(PregelTask(id='6d9f2303-f9dc-f03a-9887-42de4df36c43', name='generate_explanation', path=('__pregel_pull', 'generate_explanation'), error=None, interrupts=(), state=None, result={'explanation': 'This joke plays on the idea of a slice of pizza needing therapy because it couldn\\'t handle all the toppings on it. It\\'s a play on the phrase \"can\\'t hold it all together,\" implying that the slice of pizza is struggling to maintain its shape and composure due to having too many toppings. The humor comes from the absurdity of a slice of pizza seeking therapy for a problem that humans might face, adding a lighthearted and humorous twist to the situation.'}),), interrupts=()),\n",
              " StateSnapshot(values={'topic': 'pizza'}, next=('generate_joke',), config={'configurable': {'thread_id': '1', 'checkpoint_ns': '', 'checkpoint_id': '1f0b3123-441e-6543-8000-55560655cd54'}}, metadata={'source': 'loop', 'step': 0, 'parents': {}}, created_at='2025-10-27T08:52:01.600214+00:00', parent_config={'configurable': {'thread_id': '1', 'checkpoint_ns': '', 'checkpoint_id': '1f0b3123-441a-668c-bfff-79be670ea339'}}, tasks=(PregelTask(id='31bd9c51-9e19-0737-8785-4f5696bd03c7', name='generate_joke', path=('__pregel_pull', 'generate_joke'), error=None, interrupts=(), state=None, result={'joke': \"Why did the slice of pizza go to the therapist? Because it had too many toppings and couldn't hold it all together!\"}),), interrupts=()),\n",
              " StateSnapshot(values={}, next=('__start__',), config={'configurable': {'thread_id': '1', 'checkpoint_ns': '', 'checkpoint_id': '1f0b3123-441a-668c-bfff-79be670ea339'}}, metadata={'source': 'input', 'step': -1, 'parents': {}}, created_at='2025-10-27T08:52:01.598619+00:00', parent_config=None, tasks=(PregelTask(id='81c63577-a8ed-3049-55cc-6091077ee917', name='__start__', path=('__pregel_pull', '__start__'), error=None, interrupts=(), state=None, result={'topic': 'pizza'}),), interrupts=())]"
            ]
          },
          "metadata": {},
          "execution_count": 14
        }
      ],
      "source": [
        "list(workflow.get_state_history(config1))"
      ]
    },
    {
      "cell_type": "markdown",
      "id": "5fccccee",
      "metadata": {
        "id": "5fccccee"
      },
      "source": [
        "### Time Travel"
      ]
    },
    {
      "cell_type": "code",
      "execution_count": 17,
      "id": "b5bfa235",
      "metadata": {
        "colab": {
          "base_uri": "https://localhost:8080/"
        },
        "id": "b5bfa235",
        "outputId": "2759ef0e-116b-4c3d-8677-5210d517a8c0"
      },
      "outputs": [
        {
          "output_type": "execute_result",
          "data": {
            "text/plain": [
              "StateSnapshot(values={'topic': 'pizza', 'joke': \"Why did the slice of pizza go to the therapist? Because it had too many toppings and couldn't hold it all together!\", 'explanation': 'This joke plays on the idea of a slice of pizza needing therapy because it couldn\\'t handle all the toppings on it. It\\'s a play on the phrase \"can\\'t hold it all together,\" implying that the slice of pizza is struggling to maintain its shape and composure due to having too many toppings. The humor comes from the absurdity of a slice of pizza seeking therapy for a problem that humans might face, adding a lighthearted and humorous twist to the situation.'}, next=(), config={'configurable': {'thread_id': '1', 'checkpoint_id': '1f0b3123-6272-6bf7-8002-ad426475277b'}}, metadata={'source': 'loop', 'step': 2, 'parents': {}}, created_at='2025-10-27T08:52:04.780517+00:00', parent_config={'configurable': {'thread_id': '1', 'checkpoint_ns': '', 'checkpoint_id': '1f0b3123-4f53-63c3-8001-5ab9cf20d264'}}, tasks=(), interrupts=())"
            ]
          },
          "metadata": {},
          "execution_count": 17
        }
      ],
      "source": [
        "workflow.get_state({\"configurable\": {\"thread_id\": \"1\", \"checkpoint_id\": \"1f0b3123-6272-6bf7-8002-ad426475277b\"}})"
      ]
    },
    {
      "cell_type": "code",
      "execution_count": 19,
      "id": "1a7d2e73",
      "metadata": {
        "colab": {
          "base_uri": "https://localhost:8080/"
        },
        "id": "1a7d2e73",
        "outputId": "9a500703-3dce-4703-e05b-784d3d8c59b5"
      },
      "outputs": [
        {
          "output_type": "execute_result",
          "data": {
            "text/plain": [
              "{'topic': 'pizza',\n",
              " 'joke': \"Why did the slice of pizza go to the therapist? Because it had too many toppings and couldn't hold it all together!\",\n",
              " 'explanation': 'This joke plays on the idea of a slice of pizza needing therapy because it couldn\\'t handle all the toppings on it. It\\'s a play on the phrase \"can\\'t hold it all together,\" implying that the slice of pizza is struggling to maintain its shape and composure due to having too many toppings. The humor comes from the absurdity of a slice of pizza seeking therapy for a problem that humans might face, adding a lighthearted and humorous twist to the situation.'}"
            ]
          },
          "metadata": {},
          "execution_count": 19
        }
      ],
      "source": [
        "workflow.invoke(None, {\"configurable\": {\"thread_id\": \"1\", \"checkpoint_id\": \"1f0b3123-6272-6bf7-8002-ad426475277b\"}})"
      ]
    },
    {
      "cell_type": "code",
      "execution_count": 18,
      "id": "cd55cf35",
      "metadata": {
        "colab": {
          "base_uri": "https://localhost:8080/"
        },
        "id": "cd55cf35",
        "outputId": "3680df19-aff0-411b-eb77-1e66245e40fe"
      },
      "outputs": [
        {
          "output_type": "execute_result",
          "data": {
            "text/plain": [
              "[StateSnapshot(values={'topic': 'pizza', 'joke': \"Why did the slice of pizza go to the therapist? Because it had too many toppings and couldn't hold it all together!\", 'explanation': 'This joke plays on the idea of a slice of pizza needing therapy because it couldn\\'t handle all the toppings on it. It\\'s a play on the phrase \"can\\'t hold it all together,\" implying that the slice of pizza is struggling to maintain its shape and composure due to having too many toppings. The humor comes from the absurdity of a slice of pizza seeking therapy for a problem that humans might face, adding a lighthearted and humorous twist to the situation.'}, next=(), config={'configurable': {'thread_id': '1', 'checkpoint_ns': '', 'checkpoint_id': '1f0b3123-6272-6bf7-8002-ad426475277b'}}, metadata={'source': 'loop', 'step': 2, 'parents': {}}, created_at='2025-10-27T08:52:04.780517+00:00', parent_config={'configurable': {'thread_id': '1', 'checkpoint_ns': '', 'checkpoint_id': '1f0b3123-4f53-63c3-8001-5ab9cf20d264'}}, tasks=(), interrupts=()),\n",
              " StateSnapshot(values={'topic': 'pizza', 'joke': \"Why did the slice of pizza go to the therapist? Because it had too many toppings and couldn't hold it all together!\"}, next=('generate_explanation',), config={'configurable': {'thread_id': '1', 'checkpoint_ns': '', 'checkpoint_id': '1f0b3123-4f53-63c3-8001-5ab9cf20d264'}}, metadata={'source': 'loop', 'step': 1, 'parents': {}}, created_at='2025-10-27T08:52:02.775314+00:00', parent_config={'configurable': {'thread_id': '1', 'checkpoint_ns': '', 'checkpoint_id': '1f0b3123-441e-6543-8000-55560655cd54'}}, tasks=(PregelTask(id='6d9f2303-f9dc-f03a-9887-42de4df36c43', name='generate_explanation', path=('__pregel_pull', 'generate_explanation'), error=None, interrupts=(), state=None, result={'explanation': 'This joke plays on the idea of a slice of pizza needing therapy because it couldn\\'t handle all the toppings on it. It\\'s a play on the phrase \"can\\'t hold it all together,\" implying that the slice of pizza is struggling to maintain its shape and composure due to having too many toppings. The humor comes from the absurdity of a slice of pizza seeking therapy for a problem that humans might face, adding a lighthearted and humorous twist to the situation.'}),), interrupts=()),\n",
              " StateSnapshot(values={'topic': 'pizza'}, next=('generate_joke',), config={'configurable': {'thread_id': '1', 'checkpoint_ns': '', 'checkpoint_id': '1f0b3123-441e-6543-8000-55560655cd54'}}, metadata={'source': 'loop', 'step': 0, 'parents': {}}, created_at='2025-10-27T08:52:01.600214+00:00', parent_config={'configurable': {'thread_id': '1', 'checkpoint_ns': '', 'checkpoint_id': '1f0b3123-441a-668c-bfff-79be670ea339'}}, tasks=(PregelTask(id='31bd9c51-9e19-0737-8785-4f5696bd03c7', name='generate_joke', path=('__pregel_pull', 'generate_joke'), error=None, interrupts=(), state=None, result={'joke': \"Why did the slice of pizza go to the therapist? Because it had too many toppings and couldn't hold it all together!\"}),), interrupts=()),\n",
              " StateSnapshot(values={}, next=('__start__',), config={'configurable': {'thread_id': '1', 'checkpoint_ns': '', 'checkpoint_id': '1f0b3123-441a-668c-bfff-79be670ea339'}}, metadata={'source': 'input', 'step': -1, 'parents': {}}, created_at='2025-10-27T08:52:01.598619+00:00', parent_config=None, tasks=(PregelTask(id='81c63577-a8ed-3049-55cc-6091077ee917', name='__start__', path=('__pregel_pull', '__start__'), error=None, interrupts=(), state=None, result={'topic': 'pizza'}),), interrupts=())]"
            ]
          },
          "metadata": {},
          "execution_count": 18
        }
      ],
      "source": [
        "list(workflow.get_state_history(config1))"
      ]
    },
    {
      "cell_type": "markdown",
      "id": "ab1b895e",
      "metadata": {
        "id": "ab1b895e"
      },
      "source": [
        "#### Updating State"
      ]
    },
    {
      "cell_type": "code",
      "execution_count": 20,
      "id": "19378d86",
      "metadata": {
        "colab": {
          "base_uri": "https://localhost:8080/"
        },
        "id": "19378d86",
        "outputId": "46e75198-56cf-4470-b571-1f6cbcf3ff13"
      },
      "outputs": [
        {
          "output_type": "execute_result",
          "data": {
            "text/plain": [
              "{'configurable': {'thread_id': '1',\n",
              "  'checkpoint_ns': '',\n",
              "  'checkpoint_id': '1f0b3131-fdee-6632-8003-418eb9b6a9c8'}}"
            ]
          },
          "metadata": {},
          "execution_count": 20
        }
      ],
      "source": [
        "workflow.update_state({\"configurable\": {\"thread_id\": \"1\", \"checkpoint_id\": \"1f0b3123-6272-6bf7-8002-ad426475277b\", \"checkpoint_ns\": \"\"}}, {'topic':'samosa'})"
      ]
    },
    {
      "cell_type": "code",
      "execution_count": 21,
      "id": "7c486bff",
      "metadata": {
        "colab": {
          "base_uri": "https://localhost:8080/"
        },
        "id": "7c486bff",
        "outputId": "a461dc72-0db1-4f01-e19b-6ef45a2376ab"
      },
      "outputs": [
        {
          "output_type": "execute_result",
          "data": {
            "text/plain": [
              "[StateSnapshot(values={'topic': 'samosa', 'joke': \"Why did the slice of pizza go to the therapist? Because it had too many toppings and couldn't hold it all together!\", 'explanation': 'This joke plays on the idea of a slice of pizza needing therapy because it couldn\\'t handle all the toppings on it. It\\'s a play on the phrase \"can\\'t hold it all together,\" implying that the slice of pizza is struggling to maintain its shape and composure due to having too many toppings. The humor comes from the absurdity of a slice of pizza seeking therapy for a problem that humans might face, adding a lighthearted and humorous twist to the situation.'}, next=(), config={'configurable': {'thread_id': '1', 'checkpoint_ns': '', 'checkpoint_id': '1f0b3131-fdee-6632-8003-418eb9b6a9c8'}}, metadata={'source': 'update', 'step': 3, 'parents': {}}, created_at='2025-10-27T08:58:36.893732+00:00', parent_config={'configurable': {'thread_id': '1', 'checkpoint_ns': '', 'checkpoint_id': '1f0b3123-6272-6bf7-8002-ad426475277b'}}, tasks=(), interrupts=()),\n",
              " StateSnapshot(values={'topic': 'pizza', 'joke': \"Why did the slice of pizza go to the therapist? Because it had too many toppings and couldn't hold it all together!\", 'explanation': 'This joke plays on the idea of a slice of pizza needing therapy because it couldn\\'t handle all the toppings on it. It\\'s a play on the phrase \"can\\'t hold it all together,\" implying that the slice of pizza is struggling to maintain its shape and composure due to having too many toppings. The humor comes from the absurdity of a slice of pizza seeking therapy for a problem that humans might face, adding a lighthearted and humorous twist to the situation.'}, next=(), config={'configurable': {'thread_id': '1', 'checkpoint_ns': '', 'checkpoint_id': '1f0b3123-6272-6bf7-8002-ad426475277b'}}, metadata={'source': 'loop', 'step': 2, 'parents': {}}, created_at='2025-10-27T08:52:04.780517+00:00', parent_config={'configurable': {'thread_id': '1', 'checkpoint_ns': '', 'checkpoint_id': '1f0b3123-4f53-63c3-8001-5ab9cf20d264'}}, tasks=(), interrupts=()),\n",
              " StateSnapshot(values={'topic': 'pizza', 'joke': \"Why did the slice of pizza go to the therapist? Because it had too many toppings and couldn't hold it all together!\"}, next=('generate_explanation',), config={'configurable': {'thread_id': '1', 'checkpoint_ns': '', 'checkpoint_id': '1f0b3123-4f53-63c3-8001-5ab9cf20d264'}}, metadata={'source': 'loop', 'step': 1, 'parents': {}}, created_at='2025-10-27T08:52:02.775314+00:00', parent_config={'configurable': {'thread_id': '1', 'checkpoint_ns': '', 'checkpoint_id': '1f0b3123-441e-6543-8000-55560655cd54'}}, tasks=(PregelTask(id='6d9f2303-f9dc-f03a-9887-42de4df36c43', name='generate_explanation', path=('__pregel_pull', 'generate_explanation'), error=None, interrupts=(), state=None, result={'explanation': 'This joke plays on the idea of a slice of pizza needing therapy because it couldn\\'t handle all the toppings on it. It\\'s a play on the phrase \"can\\'t hold it all together,\" implying that the slice of pizza is struggling to maintain its shape and composure due to having too many toppings. The humor comes from the absurdity of a slice of pizza seeking therapy for a problem that humans might face, adding a lighthearted and humorous twist to the situation.'}),), interrupts=()),\n",
              " StateSnapshot(values={'topic': 'pizza'}, next=('generate_joke',), config={'configurable': {'thread_id': '1', 'checkpoint_ns': '', 'checkpoint_id': '1f0b3123-441e-6543-8000-55560655cd54'}}, metadata={'source': 'loop', 'step': 0, 'parents': {}}, created_at='2025-10-27T08:52:01.600214+00:00', parent_config={'configurable': {'thread_id': '1', 'checkpoint_ns': '', 'checkpoint_id': '1f0b3123-441a-668c-bfff-79be670ea339'}}, tasks=(PregelTask(id='31bd9c51-9e19-0737-8785-4f5696bd03c7', name='generate_joke', path=('__pregel_pull', 'generate_joke'), error=None, interrupts=(), state=None, result={'joke': \"Why did the slice of pizza go to the therapist? Because it had too many toppings and couldn't hold it all together!\"}),), interrupts=()),\n",
              " StateSnapshot(values={}, next=('__start__',), config={'configurable': {'thread_id': '1', 'checkpoint_ns': '', 'checkpoint_id': '1f0b3123-441a-668c-bfff-79be670ea339'}}, metadata={'source': 'input', 'step': -1, 'parents': {}}, created_at='2025-10-27T08:52:01.598619+00:00', parent_config=None, tasks=(PregelTask(id='81c63577-a8ed-3049-55cc-6091077ee917', name='__start__', path=('__pregel_pull', '__start__'), error=None, interrupts=(), state=None, result={'topic': 'pizza'}),), interrupts=())]"
            ]
          },
          "metadata": {},
          "execution_count": 21
        }
      ],
      "source": [
        "list(workflow.get_state_history(config1))"
      ]
    },
    {
      "cell_type": "code",
      "execution_count": 22,
      "id": "58f63a80",
      "metadata": {
        "colab": {
          "base_uri": "https://localhost:8080/"
        },
        "id": "58f63a80",
        "outputId": "63602f0d-c4cf-4a93-a9be-7669708355d9"
      },
      "outputs": [
        {
          "output_type": "execute_result",
          "data": {
            "text/plain": [
              "{'topic': 'pizza',\n",
              " 'joke': \"Why did the slice of pizza go to the therapist? Because it had too many toppings and couldn't hold it all together!\",\n",
              " 'explanation': 'This joke plays on the idea of a slice of pizza needing therapy because it couldn\\'t handle all the toppings on it. It\\'s a play on the phrase \"can\\'t hold it all together,\" implying that the slice of pizza is struggling to maintain its shape and composure due to having too many toppings. The humor comes from the absurdity of a slice of pizza seeking therapy for a problem that humans might face, adding a lighthearted and humorous twist to the situation.'}"
            ]
          },
          "metadata": {},
          "execution_count": 22
        }
      ],
      "source": [
        "workflow.invoke(None, {\"configurable\": {\"thread_id\": \"1\", \"checkpoint_id\": \"1f0b3123-6272-6bf7-8002-ad426475277b\"}})"
      ]
    },
    {
      "cell_type": "code",
      "execution_count": 23,
      "id": "db645da9",
      "metadata": {
        "colab": {
          "base_uri": "https://localhost:8080/"
        },
        "id": "db645da9",
        "outputId": "828ac777-39ad-4bc5-c18f-4ea78ee00838"
      },
      "outputs": [
        {
          "output_type": "execute_result",
          "data": {
            "text/plain": [
              "[StateSnapshot(values={'topic': 'samosa', 'joke': \"Why did the slice of pizza go to the therapist? Because it had too many toppings and couldn't hold it all together!\", 'explanation': 'This joke plays on the idea of a slice of pizza needing therapy because it couldn\\'t handle all the toppings on it. It\\'s a play on the phrase \"can\\'t hold it all together,\" implying that the slice of pizza is struggling to maintain its shape and composure due to having too many toppings. The humor comes from the absurdity of a slice of pizza seeking therapy for a problem that humans might face, adding a lighthearted and humorous twist to the situation.'}, next=(), config={'configurable': {'thread_id': '1', 'checkpoint_ns': '', 'checkpoint_id': '1f0b3131-fdee-6632-8003-418eb9b6a9c8'}}, metadata={'source': 'update', 'step': 3, 'parents': {}}, created_at='2025-10-27T08:58:36.893732+00:00', parent_config={'configurable': {'thread_id': '1', 'checkpoint_ns': '', 'checkpoint_id': '1f0b3123-6272-6bf7-8002-ad426475277b'}}, tasks=(), interrupts=()),\n",
              " StateSnapshot(values={'topic': 'pizza', 'joke': \"Why did the slice of pizza go to the therapist? Because it had too many toppings and couldn't hold it all together!\", 'explanation': 'This joke plays on the idea of a slice of pizza needing therapy because it couldn\\'t handle all the toppings on it. It\\'s a play on the phrase \"can\\'t hold it all together,\" implying that the slice of pizza is struggling to maintain its shape and composure due to having too many toppings. The humor comes from the absurdity of a slice of pizza seeking therapy for a problem that humans might face, adding a lighthearted and humorous twist to the situation.'}, next=(), config={'configurable': {'thread_id': '1', 'checkpoint_ns': '', 'checkpoint_id': '1f0b3123-6272-6bf7-8002-ad426475277b'}}, metadata={'source': 'loop', 'step': 2, 'parents': {}}, created_at='2025-10-27T08:52:04.780517+00:00', parent_config={'configurable': {'thread_id': '1', 'checkpoint_ns': '', 'checkpoint_id': '1f0b3123-4f53-63c3-8001-5ab9cf20d264'}}, tasks=(), interrupts=()),\n",
              " StateSnapshot(values={'topic': 'pizza', 'joke': \"Why did the slice of pizza go to the therapist? Because it had too many toppings and couldn't hold it all together!\"}, next=('generate_explanation',), config={'configurable': {'thread_id': '1', 'checkpoint_ns': '', 'checkpoint_id': '1f0b3123-4f53-63c3-8001-5ab9cf20d264'}}, metadata={'source': 'loop', 'step': 1, 'parents': {}}, created_at='2025-10-27T08:52:02.775314+00:00', parent_config={'configurable': {'thread_id': '1', 'checkpoint_ns': '', 'checkpoint_id': '1f0b3123-441e-6543-8000-55560655cd54'}}, tasks=(PregelTask(id='6d9f2303-f9dc-f03a-9887-42de4df36c43', name='generate_explanation', path=('__pregel_pull', 'generate_explanation'), error=None, interrupts=(), state=None, result={'explanation': 'This joke plays on the idea of a slice of pizza needing therapy because it couldn\\'t handle all the toppings on it. It\\'s a play on the phrase \"can\\'t hold it all together,\" implying that the slice of pizza is struggling to maintain its shape and composure due to having too many toppings. The humor comes from the absurdity of a slice of pizza seeking therapy for a problem that humans might face, adding a lighthearted and humorous twist to the situation.'}),), interrupts=()),\n",
              " StateSnapshot(values={'topic': 'pizza'}, next=('generate_joke',), config={'configurable': {'thread_id': '1', 'checkpoint_ns': '', 'checkpoint_id': '1f0b3123-441e-6543-8000-55560655cd54'}}, metadata={'source': 'loop', 'step': 0, 'parents': {}}, created_at='2025-10-27T08:52:01.600214+00:00', parent_config={'configurable': {'thread_id': '1', 'checkpoint_ns': '', 'checkpoint_id': '1f0b3123-441a-668c-bfff-79be670ea339'}}, tasks=(PregelTask(id='31bd9c51-9e19-0737-8785-4f5696bd03c7', name='generate_joke', path=('__pregel_pull', 'generate_joke'), error=None, interrupts=(), state=None, result={'joke': \"Why did the slice of pizza go to the therapist? Because it had too many toppings and couldn't hold it all together!\"}),), interrupts=()),\n",
              " StateSnapshot(values={}, next=('__start__',), config={'configurable': {'thread_id': '1', 'checkpoint_ns': '', 'checkpoint_id': '1f0b3123-441a-668c-bfff-79be670ea339'}}, metadata={'source': 'input', 'step': -1, 'parents': {}}, created_at='2025-10-27T08:52:01.598619+00:00', parent_config=None, tasks=(PregelTask(id='81c63577-a8ed-3049-55cc-6091077ee917', name='__start__', path=('__pregel_pull', '__start__'), error=None, interrupts=(), state=None, result={'topic': 'pizza'}),), interrupts=())]"
            ]
          },
          "metadata": {},
          "execution_count": 23
        }
      ],
      "source": [
        "list(workflow.get_state_history(config1))"
      ]
    },
    {
      "cell_type": "markdown",
      "id": "d8435127",
      "metadata": {
        "id": "d8435127"
      },
      "source": [
        "### Fault Tolerance"
      ]
    },
    {
      "cell_type": "code",
      "execution_count": 24,
      "id": "b7aacf7e",
      "metadata": {
        "id": "b7aacf7e"
      },
      "outputs": [],
      "source": [
        "from langgraph.graph import StateGraph, END\n",
        "from langgraph.checkpoint.memory import InMemorySaver\n",
        "from typing import TypedDict\n",
        "import time"
      ]
    },
    {
      "cell_type": "code",
      "execution_count": 25,
      "id": "095de12d",
      "metadata": {
        "id": "095de12d"
      },
      "outputs": [],
      "source": [
        "# 1. Define the state\n",
        "class CrashState(TypedDict):\n",
        "    input: str\n",
        "    step1: str\n",
        "    step2: str"
      ]
    },
    {
      "cell_type": "code",
      "execution_count": 27,
      "id": "13365a36",
      "metadata": {
        "id": "13365a36"
      },
      "outputs": [],
      "source": [
        "# 2. Define steps\n",
        "def step_1(state: CrashState) -> CrashState:\n",
        "    print(\"✅ Step 1 executed\")\n",
        "    return {\"step1\": \"done\", \"input\": state[\"input\"]}\n",
        "\n",
        "def step_2(state: CrashState) -> CrashState:\n",
        "    print(\"⏳ Step 2 hanging... now manually interrupt from the notebook toolbar (STOP button)\")\n",
        "    time.sleep(1000)  # Simulate long-running hang\n",
        "    return {\"step2\": \"done\"}\n",
        "\n",
        "def step_3(state: CrashState) -> CrashState:\n",
        "    print(\"✅ Step 3 executed\")\n",
        "    return {\"done\": True}"
      ]
    },
    {
      "cell_type": "code",
      "execution_count": 28,
      "id": "2838a3a1",
      "metadata": {
        "id": "2838a3a1"
      },
      "outputs": [],
      "source": [
        "# 3. Build the graph\n",
        "builder = StateGraph(CrashState)\n",
        "builder.add_node(\"step_1\", step_1)\n",
        "builder.add_node(\"step_2\", step_2)\n",
        "builder.add_node(\"step_3\", step_3)\n",
        "\n",
        "builder.set_entry_point(\"step_1\")\n",
        "builder.add_edge(\"step_1\", \"step_2\")\n",
        "builder.add_edge(\"step_2\", \"step_3\")\n",
        "builder.add_edge(\"step_3\", END)\n",
        "\n",
        "checkpointer = InMemorySaver()\n",
        "graph = builder.compile(checkpointer=checkpointer)"
      ]
    },
    {
      "cell_type": "code",
      "source": [
        "graph"
      ],
      "metadata": {
        "colab": {
          "base_uri": "https://localhost:8080/",
          "height": 449
        },
        "id": "xWuoqZfZ5a_w",
        "outputId": "10ffbbaa-945b-4440-eb02-2dee12a0d641"
      },
      "id": "xWuoqZfZ5a_w",
      "execution_count": 29,
      "outputs": [
        {
          "output_type": "execute_result",
          "data": {
            "text/plain": [
              "<langgraph.graph.state.CompiledStateGraph object at 0x7ba59faf7e30>"
            ],
            "image/png": "[encoded data removed]"
          },
          "metadata": {},
          "execution_count": 29
        }
      ]
    },
    {
      "cell_type": "code",
      "execution_count": 30,
      "id": "17c012e7",
      "metadata": {
        "colab": {
          "base_uri": "https://localhost:8080/"
        },
        "id": "17c012e7",
        "outputId": "b7fcf2e1-2136-4d05-adfb-cbb74d6672da"
      },
      "outputs": [
        {
          "output_type": "stream",
          "name": "stdout",
          "text": [
            "▶️ Running graph: Please manually interrupt during Step 2...\n",
            "✅ Step 1 executed\n",
            "⏳ Step 2 hanging... now manually interrupt from the notebook toolbar (STOP button)\n",
            "❌ Kernel manually interrupted (crash simulated).\n"
          ]
        }
      ],
      "source": [
        "try:\n",
        "    print(\"▶️ Running graph: Please manually interrupt during Step 2...\")\n",
        "    graph.invoke({\"input\": \"start\"}, config={\"configurable\": {\"thread_id\": 'thread-1'}})\n",
        "except KeyboardInterrupt:\n",
        "    print(\"❌ Kernel manually interrupted (crash simulated).\")"
      ]
    },
    {
      "cell_type": "code",
      "execution_count": 33,
      "id": "95df3f98",
      "metadata": {
        "colab": {
          "base_uri": "https://localhost:8080/",
          "height": 391
        },
        "id": "95df3f98",
        "outputId": "e5e2fbd5-cf62-41e9-ebff-ed9256d607a5"
      },
      "outputs": [
        {
          "output_type": "stream",
          "name": "stdout",
          "text": [
            "\n",
            "🔁 Re-running the graph to demonstrate fault tolerance...\n",
            "⏳ Step 2 hanging... now manually interrupt from the notebook toolbar (STOP button)\n"
          ]
        },
        {
          "output_type": "error",
          "ename": "KeyboardInterrupt",
          "evalue": "",
          "traceback": [
            "\u001b[0;31m---------------------------------------------------------------------------\u001b[0m",
            "\u001b[0;31mKeyboardInterrupt\u001b[0m                         Traceback (most recent call last)",
            "\u001b[0;32m/tmp/ipython-input-2758615664.py\u001b[0m in \u001b[0;36m<cell line: 0>\u001b[0;34m()\u001b[0m\n\u001b[1;32m      1\u001b[0m \u001b[0;31m# 6. Re-run to show fault-tolerant resume\u001b[0m\u001b[0;34m\u001b[0m\u001b[0;34m\u001b[0m\u001b[0m\n\u001b[1;32m      2\u001b[0m \u001b[0mprint\u001b[0m\u001b[0;34m(\u001b[0m\u001b[0;34m\"\\n🔁 Re-running the graph to demonstrate fault tolerance...\"\u001b[0m\u001b[0;34m)\u001b[0m\u001b[0;34m\u001b[0m\u001b[0;34m\u001b[0m\u001b[0m\n\u001b[0;32m----> 3\u001b[0;31m \u001b[0mfinal_state\u001b[0m \u001b[0;34m=\u001b[0m \u001b[0mgraph\u001b[0m\u001b[0;34m.\u001b[0m\u001b[0minvoke\u001b[0m\u001b[0;34m(\u001b[0m\u001b[0;32mNone\u001b[0m\u001b[0;34m,\u001b[0m \u001b[0mconfig\u001b[0m\u001b[0;34m=\u001b[0m\u001b[0;34m{\u001b[0m\u001b[0;34m\"configurable\"\u001b[0m\u001b[0;34m:\u001b[0m \u001b[0;34m{\u001b[0m\u001b[0;34m\"thread_id\"\u001b[0m\u001b[0;34m:\u001b[0m \u001b[0;34m'thread-1'\u001b[0m\u001b[0;34m}\u001b[0m\u001b[0;34m}\u001b[0m\u001b[0;34m)\u001b[0m\u001b[0;34m\u001b[0m\u001b[0;34m\u001b[0m\u001b[0m\n\u001b[0m\u001b[1;32m      4\u001b[0m \u001b[0mprint\u001b[0m\u001b[0;34m(\u001b[0m\u001b[0;34m\"\\n✅ Final State:\"\u001b[0m\u001b[0;34m,\u001b[0m \u001b[0mfinal_state\u001b[0m\u001b[0;34m)\u001b[0m\u001b[0;34m\u001b[0m\u001b[0;34m\u001b[0m\u001b[0m\n",
            "\u001b[0;32m/usr/local/lib/python3.12/dist-packages/langgraph/pregel/main.py\u001b[0m in \u001b[0;36minvoke\u001b[0;34m(self, input, config, context, stream_mode, print_mode, output_keys, interrupt_before, interrupt_after, durability, **kwargs)\u001b[0m\n\u001b[1;32m   3092\u001b[0m         \u001b[0minterrupts\u001b[0m\u001b[0;34m:\u001b[0m \u001b[0mlist\u001b[0m\u001b[0;34m[\u001b[0m\u001b[0mInterrupt\u001b[0m\u001b[0;34m]\u001b[0m \u001b[0;34m=\u001b[0m \u001b[0;34m[\u001b[0m\u001b[0;34m]\u001b[0m\u001b[0;34m\u001b[0m\u001b[0;34m\u001b[0m\u001b[0m\n\u001b[1;32m   3093\u001b[0m \u001b[0;34m\u001b[0m\u001b[0m\n\u001b[0;32m-> 3094\u001b[0;31m         for chunk in self.stream(\n\u001b[0m\u001b[1;32m   3095\u001b[0m             \u001b[0minput\u001b[0m\u001b[0;34m,\u001b[0m\u001b[0;34m\u001b[0m\u001b[0;34m\u001b[0m\u001b[0m\n\u001b[1;32m   3096\u001b[0m             \u001b[0mconfig\u001b[0m\u001b[0;34m,\u001b[0m\u001b[0;34m\u001b[0m\u001b[0;34m\u001b[0m\u001b[0m\n",
            "\u001b[0;32m/usr/local/lib/python3.12/dist-packages/langgraph/pregel/main.py\u001b[0m in \u001b[0;36mstream\u001b[0;34m(self, input, config, context, stream_mode, print_mode, output_keys, interrupt_before, interrupt_after, durability, subgraphs, debug, **kwargs)\u001b[0m\n\u001b[1;32m   2677\u001b[0m                     \u001b[0;32mfor\u001b[0m \u001b[0mtask\u001b[0m \u001b[0;32min\u001b[0m \u001b[0mloop\u001b[0m\u001b[0;34m.\u001b[0m\u001b[0mmatch_cached_writes\u001b[0m\u001b[0;34m(\u001b[0m\u001b[0;34m)\u001b[0m\u001b[0;34m:\u001b[0m\u001b[0;34m\u001b[0m\u001b[0;34m\u001b[0m\u001b[0m\n\u001b[1;32m   2678\u001b[0m                         \u001b[0mloop\u001b[0m\u001b[0;34m.\u001b[0m\u001b[0moutput_writes\u001b[0m\u001b[0;34m(\u001b[0m\u001b[0mtask\u001b[0m\u001b[0;34m.\u001b[0m\u001b[0mid\u001b[0m\u001b[0;34m,\u001b[0m \u001b[0mtask\u001b[0m\u001b[0;34m.\u001b[0m\u001b[0mwrites\u001b[0m\u001b[0;34m,\u001b[0m \u001b[0mcached\u001b[0m\u001b[0;34m=\u001b[0m\u001b[0;32mTrue\u001b[0m\u001b[0;34m)\u001b[0m\u001b[0;34m\u001b[0m\u001b[0;34m\u001b[0m\u001b[0m\n\u001b[0;32m-> 2679\u001b[0;31m                     for _ in runner.tick(\n\u001b[0m\u001b[1;32m   2680\u001b[0m                         \u001b[0;34m[\u001b[0m\u001b[0mt\u001b[0m \u001b[0;32mfor\u001b[0m \u001b[0mt\u001b[0m \u001b[0;32min\u001b[0m \u001b[0mloop\u001b[0m\u001b[0;34m.\u001b[0m\u001b[0mtasks\u001b[0m\u001b[0;34m.\u001b[0m\u001b[0mvalues\u001b[0m\u001b[0;34m(\u001b[0m\u001b[0;34m)\u001b[0m \u001b[0;32mif\u001b[0m \u001b[0;32mnot\u001b[0m \u001b[0mt\u001b[0m\u001b[0;34m.\u001b[0m\u001b[0mwrites\u001b[0m\u001b[0;34m]\u001b[0m\u001b[0;34m,\u001b[0m\u001b[0;34m\u001b[0m\u001b[0;34m\u001b[0m\u001b[0m\n\u001b[1;32m   2681\u001b[0m                         \u001b[0mtimeout\u001b[0m\u001b[0;34m=\u001b[0m\u001b[0mself\u001b[0m\u001b[0;34m.\u001b[0m\u001b[0mstep_timeout\u001b[0m\u001b[0;34m,\u001b[0m\u001b[0;34m\u001b[0m\u001b[0;34m\u001b[0m\u001b[0m\n",
            "\u001b[0;32m/usr/local/lib/python3.12/dist-packages/langgraph/pregel/_runner.py\u001b[0m in \u001b[0;36mtick\u001b[0;34m(self, tasks, reraise, timeout, retry_policy, get_waiter, schedule_task)\u001b[0m\n\u001b[1;32m    165\u001b[0m             \u001b[0mt\u001b[0m \u001b[0;34m=\u001b[0m \u001b[0mtasks\u001b[0m\u001b[0;34m[\u001b[0m\u001b[0;36m0\u001b[0m\u001b[0;34m]\u001b[0m\u001b[0;34m\u001b[0m\u001b[0;34m\u001b[0m\u001b[0m\n\u001b[1;32m    166\u001b[0m             \u001b[0;32mtry\u001b[0m\u001b[0;34m:\u001b[0m\u001b[0;34m\u001b[0m\u001b[0;34m\u001b[0m\u001b[0m\n\u001b[0;32m--> 167\u001b[0;31m                 run_with_retry(\n\u001b[0m\u001b[1;32m    168\u001b[0m                     \u001b[0mt\u001b[0m\u001b[0;34m,\u001b[0m\u001b[0;34m\u001b[0m\u001b[0;34m\u001b[0m\u001b[0m\n\u001b[1;32m    169\u001b[0m                     \u001b[0mretry_policy\u001b[0m\u001b[0;34m,\u001b[0m\u001b[0;34m\u001b[0m\u001b[0;34m\u001b[0m\u001b[0m\n",
            "\u001b[0;32m/usr/local/lib/python3.12/dist-packages/langgraph/pregel/_retry.py\u001b[0m in \u001b[0;36mrun_with_retry\u001b[0;34m(task, retry_policy, configurable)\u001b[0m\n\u001b[1;32m     40\u001b[0m             \u001b[0mtask\u001b[0m\u001b[0;34m.\u001b[0m\u001b[0mwrites\u001b[0m\u001b[0;34m.\u001b[0m\u001b[0mclear\u001b[0m\u001b[0;34m(\u001b[0m\u001b[0;34m)\u001b[0m\u001b[0;34m\u001b[0m\u001b[0;34m\u001b[0m\u001b[0m\n\u001b[1;32m     41\u001b[0m             \u001b[0;31m# run the task\u001b[0m\u001b[0;34m\u001b[0m\u001b[0;34m\u001b[0m\u001b[0m\n\u001b[0;32m---> 42\u001b[0;31m             \u001b[0;32mreturn\u001b[0m \u001b[0mtask\u001b[0m\u001b[0;34m.\u001b[0m\u001b[0mproc\u001b[0m\u001b[0;34m.\u001b[0m\u001b[0minvoke\u001b[0m\u001b[0;34m(\u001b[0m\u001b[0mtask\u001b[0m\u001b[0;34m.\u001b[0m\u001b[0minput\u001b[0m\u001b[0;34m,\u001b[0m \u001b[0mconfig\u001b[0m\u001b[0;34m)\u001b[0m\u001b[0;34m\u001b[0m\u001b[0;34m\u001b[0m\u001b[0m\n\u001b[0m\u001b[1;32m     43\u001b[0m         \u001b[0;32mexcept\u001b[0m \u001b[0mParentCommand\u001b[0m \u001b[0;32mas\u001b[0m \u001b[0mexc\u001b[0m\u001b[0;34m:\u001b[0m\u001b[0;34m\u001b[0m\u001b[0;34m\u001b[0m\u001b[0m\n\u001b[1;32m     44\u001b[0m             \u001b[0mns\u001b[0m\u001b[0;34m:\u001b[0m \u001b[0mstr\u001b[0m \u001b[0;34m=\u001b[0m \u001b[0mconfig\u001b[0m\u001b[0;34m[\u001b[0m\u001b[0mCONF\u001b[0m\u001b[0;34m]\u001b[0m\u001b[0;34m[\u001b[0m\u001b[0mCONFIG_KEY_CHECKPOINT_NS\u001b[0m\u001b[0;34m]\u001b[0m\u001b[0;34m\u001b[0m\u001b[0;34m\u001b[0m\u001b[0m\n",
            "\u001b[0;32m/usr/local/lib/python3.12/dist-packages/langgraph/_internal/_runnable.py\u001b[0m in \u001b[0;36minvoke\u001b[0;34m(self, input, config, **kwargs)\u001b[0m\n\u001b[1;32m    654\u001b[0m                     \u001b[0;31m# run in context\u001b[0m\u001b[0;34m\u001b[0m\u001b[0;34m\u001b[0m\u001b[0m\n\u001b[1;32m    655\u001b[0m                     \u001b[0;32mwith\u001b[0m \u001b[0mset_config_context\u001b[0m\u001b[0;34m(\u001b[0m\u001b[0mconfig\u001b[0m\u001b[0;34m,\u001b[0m \u001b[0mrun\u001b[0m\u001b[0;34m)\u001b[0m \u001b[0;32mas\u001b[0m \u001b[0mcontext\u001b[0m\u001b[0;34m:\u001b[0m\u001b[0;34m\u001b[0m\u001b[0;34m\u001b[0m\u001b[0m\n\u001b[0;32m--> 656\u001b[0;31m                         \u001b[0minput\u001b[0m \u001b[0;34m=\u001b[0m \u001b[0mcontext\u001b[0m\u001b[0;34m.\u001b[0m\u001b[0mrun\u001b[0m\u001b[0;34m(\u001b[0m\u001b[0mstep\u001b[0m\u001b[0;34m.\u001b[0m\u001b[0minvoke\u001b[0m\u001b[0;34m,\u001b[0m \u001b[0minput\u001b[0m\u001b[0;34m,\u001b[0m \u001b[0mconfig\u001b[0m\u001b[0;34m,\u001b[0m \u001b[0;34m**\u001b[0m\u001b[0mkwargs\u001b[0m\u001b[0;34m)\u001b[0m\u001b[0;34m\u001b[0m\u001b[0;34m\u001b[0m\u001b[0m\n\u001b[0m\u001b[1;32m    657\u001b[0m                 \u001b[0;32melse\u001b[0m\u001b[0;34m:\u001b[0m\u001b[0;34m\u001b[0m\u001b[0;34m\u001b[0m\u001b[0m\n\u001b[1;32m    658\u001b[0m                     \u001b[0minput\u001b[0m \u001b[0;34m=\u001b[0m \u001b[0mstep\u001b[0m\u001b[0;34m.\u001b[0m\u001b[0minvoke\u001b[0m\u001b[0;34m(\u001b[0m\u001b[0minput\u001b[0m\u001b[0;34m,\u001b[0m \u001b[0mconfig\u001b[0m\u001b[0;34m)\u001b[0m\u001b[0;34m\u001b[0m\u001b[0;34m\u001b[0m\u001b[0m\n",
            "\u001b[0;32m/usr/local/lib/python3.12/dist-packages/langgraph/_internal/_runnable.py\u001b[0m in \u001b[0;36minvoke\u001b[0;34m(self, input, config, **kwargs)\u001b[0m\n\u001b[1;32m    398\u001b[0m                 \u001b[0mrun_manager\u001b[0m\u001b[0;34m.\u001b[0m\u001b[0mon_chain_end\u001b[0m\u001b[0;34m(\u001b[0m\u001b[0mret\u001b[0m\u001b[0;34m)\u001b[0m\u001b[0;34m\u001b[0m\u001b[0;34m\u001b[0m\u001b[0m\n\u001b[1;32m    399\u001b[0m         \u001b[0;32melse\u001b[0m\u001b[0;34m:\u001b[0m\u001b[0;34m\u001b[0m\u001b[0;34m\u001b[0m\u001b[0m\n\u001b[0;32m--> 400\u001b[0;31m             \u001b[0mret\u001b[0m \u001b[0;34m=\u001b[0m \u001b[0mself\u001b[0m\u001b[0;34m.\u001b[0m\u001b[0mfunc\u001b[0m\u001b[0;34m(\u001b[0m\u001b[0;34m*\u001b[0m\u001b[0margs\u001b[0m\u001b[0;34m,\u001b[0m \u001b[0;34m**\u001b[0m\u001b[0mkwargs\u001b[0m\u001b[0;34m)\u001b[0m\u001b[0;34m\u001b[0m\u001b[0;34m\u001b[0m\u001b[0m\n\u001b[0m\u001b[1;32m    401\u001b[0m         \u001b[0;32mif\u001b[0m \u001b[0mself\u001b[0m\u001b[0;34m.\u001b[0m\u001b[0mrecurse\u001b[0m \u001b[0;32mand\u001b[0m \u001b[0misinstance\u001b[0m\u001b[0;34m(\u001b[0m\u001b[0mret\u001b[0m\u001b[0;34m,\u001b[0m \u001b[0mRunnable\u001b[0m\u001b[0;34m)\u001b[0m\u001b[0;34m:\u001b[0m\u001b[0;34m\u001b[0m\u001b[0;34m\u001b[0m\u001b[0m\n\u001b[1;32m    402\u001b[0m             \u001b[0;32mreturn\u001b[0m \u001b[0mret\u001b[0m\u001b[0;34m.\u001b[0m\u001b[0minvoke\u001b[0m\u001b[0;34m(\u001b[0m\u001b[0minput\u001b[0m\u001b[0;34m,\u001b[0m \u001b[0mconfig\u001b[0m\u001b[0;34m)\u001b[0m\u001b[0;34m\u001b[0m\u001b[0;34m\u001b[0m\u001b[0m\n",
            "\u001b[0;32m/tmp/ipython-input-1150251644.py\u001b[0m in \u001b[0;36mstep_2\u001b[0;34m(state)\u001b[0m\n\u001b[1;32m      6\u001b[0m \u001b[0;32mdef\u001b[0m \u001b[0mstep_2\u001b[0m\u001b[0;34m(\u001b[0m\u001b[0mstate\u001b[0m\u001b[0;34m:\u001b[0m \u001b[0mCrashState\u001b[0m\u001b[0;34m)\u001b[0m \u001b[0;34m->\u001b[0m \u001b[0mCrashState\u001b[0m\u001b[0;34m:\u001b[0m\u001b[0;34m\u001b[0m\u001b[0;34m\u001b[0m\u001b[0m\n\u001b[1;32m      7\u001b[0m     \u001b[0mprint\u001b[0m\u001b[0;34m(\u001b[0m\u001b[0;34m\"⏳ Step 2 hanging... now manually interrupt from the notebook toolbar (STOP button)\"\u001b[0m\u001b[0;34m)\u001b[0m\u001b[0;34m\u001b[0m\u001b[0;34m\u001b[0m\u001b[0m\n\u001b[0;32m----> 8\u001b[0;31m     \u001b[0mtime\u001b[0m\u001b[0;34m.\u001b[0m\u001b[0msleep\u001b[0m\u001b[0;34m(\u001b[0m\u001b[0;36m1000\u001b[0m\u001b[0;34m)\u001b[0m  \u001b[0;31m# Simulate long-running hang\u001b[0m\u001b[0;34m\u001b[0m\u001b[0;34m\u001b[0m\u001b[0m\n\u001b[0m\u001b[1;32m      9\u001b[0m     \u001b[0;32mreturn\u001b[0m \u001b[0;34m{\u001b[0m\u001b[0;34m\"step2\"\u001b[0m\u001b[0;34m:\u001b[0m \u001b[0;34m\"done\"\u001b[0m\u001b[0;34m}\u001b[0m\u001b[0;34m\u001b[0m\u001b[0;34m\u001b[0m\u001b[0m\n\u001b[1;32m     10\u001b[0m \u001b[0;34m\u001b[0m\u001b[0m\n",
            "\u001b[0;31mKeyboardInterrupt\u001b[0m: "
          ]
        }
      ],
      "source": [
        "# 6. Re-run to show fault-tolerant resume\n",
        "print(\"\\n🔁 Re-running the graph to demonstrate fault tolerance...\")\n",
        "final_state = graph.invoke(None, config={\"configurable\": {\"thread_id\": 'thread-1'}})\n",
        "print(\"\\n✅ Final State:\", final_state)"
      ]
    },
    {
      "cell_type": "code",
      "execution_count": 34,
      "id": "4f61ccbd",
      "metadata": {
        "colab": {
          "base_uri": "https://localhost:8080/"
        },
        "id": "4f61ccbd",
        "outputId": "b68ec4a9-2df7-4a85-82dc-a783dce44633"
      },
      "outputs": [
        {
          "output_type": "execute_result",
          "data": {
            "text/plain": [
              "[StateSnapshot(values={'input': 'start', 'step1': 'done'}, next=('step_2',), config={'configurable': {'thread_id': 'thread-1', 'checkpoint_ns': '', 'checkpoint_id': '1f0b3136-a2ce-6102-8001-1e764ab1adaf'}}, metadata={'source': 'loop', 'step': 1, 'parents': {}}, created_at='2025-10-27T09:00:41.556177+00:00', parent_config={'configurable': {'thread_id': 'thread-1', 'checkpoint_ns': '', 'checkpoint_id': '1f0b3136-a2c9-60a8-8000-08e205b979d8'}}, tasks=(PregelTask(id='8d6b8eca-e88d-194c-6792-1cfbcd6d3f15', name='step_2', path=('__pregel_pull', 'step_2'), error=None, interrupts=(), state=None, result=None),), interrupts=()),\n",
              " StateSnapshot(values={'input': 'start'}, next=('step_1',), config={'configurable': {'thread_id': 'thread-1', 'checkpoint_ns': '', 'checkpoint_id': '1f0b3136-a2c9-60a8-8000-08e205b979d8'}}, metadata={'source': 'loop', 'step': 0, 'parents': {}}, created_at='2025-10-27T09:00:41.554120+00:00', parent_config={'configurable': {'thread_id': 'thread-1', 'checkpoint_ns': '', 'checkpoint_id': '1f0b3136-a2c5-6881-bfff-55fffa0a5349'}}, tasks=(PregelTask(id='325cd325-d940-397b-ff5b-5a4119ab3a20', name='step_1', path=('__pregel_pull', 'step_1'), error=None, interrupts=(), state=None, result={'step1': 'done', 'input': 'start'}),), interrupts=()),\n",
              " StateSnapshot(values={}, next=('__start__',), config={'configurable': {'thread_id': 'thread-1', 'checkpoint_ns': '', 'checkpoint_id': '1f0b3136-a2c5-6881-bfff-55fffa0a5349'}}, metadata={'source': 'input', 'step': -1, 'parents': {}}, created_at='2025-10-27T09:00:41.552692+00:00', parent_config=None, tasks=(PregelTask(id='d8ca5790-d9b2-725e-0462-696d2239f4e3', name='__start__', path=('__pregel_pull', '__start__'), error=None, interrupts=(), state=None, result={'input': 'start'}),), interrupts=())]"
            ]
          },
          "metadata": {},
          "execution_count": 34
        }
      ],
      "source": [
        "list(graph.get_state_history({\"configurable\": {\"thread_id\": 'thread-1'}}))"
      ]
    }
  ],
  "metadata": {
    "kernelspec": {
      "display_name": "myenv",
      "language": "python",
      "name": "python3"
    },
    "language_info": {
      "codemirror_mode": {
        "name": "ipython",
        "version": 3
      },
      "file_extension": ".py",
      "mimetype": "text/x-python",
      "name": "python",
      "nbconvert_exporter": "python",
      "pygments_lexer": "ipython3",
      "version": "3.11.0"
    },
    "colab": {
      "provenance": []
    }
  },
  "nbformat": 4,
  "nbformat_minor": 5
}