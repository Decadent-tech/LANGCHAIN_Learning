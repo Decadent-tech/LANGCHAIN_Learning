{
  "cells": [
    {
      "cell_type": "code",
      "metadata": {
        "colab": {
          "base_uri": "https://localhost:8080/"
        },
        "id": "8e7d9155",
        "outputId": "0f22aae8-b823-4e13-c0ce-684ae263dfa7"
      },
      "source": [
        "%pip install langgraph"
      ],
      "id": "8e7d9155",
      "execution_count": 2,
      "outputs": [
        {
          "output_type": "stream",
          "name": "stdout",
          "text": [
            "Collecting langgraph\n",
            "  Downloading langgraph-0.6.10-py3-none-any.whl.metadata (6.8 kB)\n",
            "Requirement already satisfied: langchain-core>=0.1 in /usr/local/lib/python3.12/dist-packages (from langgraph) (0.3.78)\n",
            "Collecting langgraph-checkpoint<3.0.0,>=2.1.0 (from langgraph)\n",
            "  Downloading langgraph_checkpoint-2.1.2-py3-none-any.whl.metadata (4.2 kB)\n",
            "Collecting langgraph-prebuilt<0.7.0,>=0.6.0 (from langgraph)\n",
            "  Downloading langgraph_prebuilt-0.6.4-py3-none-any.whl.metadata (4.5 kB)\n",
            "Collecting langgraph-sdk<0.3.0,>=0.2.2 (from langgraph)\n",
            "  Downloading langgraph_sdk-0.2.9-py3-none-any.whl.metadata (1.5 kB)\n",
            "Requirement already satisfied: pydantic>=2.7.4 in /usr/local/lib/python3.12/dist-packages (from langgraph) (2.11.10)\n",
            "Requirement already satisfied: xxhash>=3.5.0 in /usr/local/lib/python3.12/dist-packages (from langgraph) (3.6.0)\n",
            "Requirement already satisfied: langsmith<1.0.0,>=0.3.45 in /usr/local/lib/python3.12/dist-packages (from langchain-core>=0.1->langgraph) (0.4.33)\n",
            "Requirement already satisfied: tenacity!=8.4.0,<10.0.0,>=8.1.0 in /usr/local/lib/python3.12/dist-packages (from langchain-core>=0.1->langgraph) (8.5.0)\n",
            "Requirement already satisfied: jsonpatch<2.0.0,>=1.33.0 in /usr/local/lib/python3.12/dist-packages (from langchain-core>=0.1->langgraph) (1.33)\n",
            "Requirement already satisfied: PyYAML<7.0.0,>=5.3.0 in /usr/local/lib/python3.12/dist-packages (from langchain-core>=0.1->langgraph) (6.0.3)\n",
            "Requirement already satisfied: typing-extensions<5.0.0,>=4.7.0 in /usr/local/lib/python3.12/dist-packages (from langchain-core>=0.1->langgraph) (4.15.0)\n",
            "Requirement already satisfied: packaging<26.0.0,>=23.2.0 in /usr/local/lib/python3.12/dist-packages (from langchain-core>=0.1->langgraph) (25.0)\n",
            "Collecting ormsgpack>=1.10.0 (from langgraph-checkpoint<3.0.0,>=2.1.0->langgraph)\n",
            "  Downloading ormsgpack-1.11.0-cp312-cp312-manylinux_2_17_x86_64.manylinux2014_x86_64.whl.metadata (1.2 kB)\n",
            "Requirement already satisfied: httpx>=0.25.2 in /usr/local/lib/python3.12/dist-packages (from langgraph-sdk<0.3.0,>=0.2.2->langgraph) (0.28.1)\n",
            "Requirement already satisfied: orjson>=3.10.1 in /usr/local/lib/python3.12/dist-packages (from langgraph-sdk<0.3.0,>=0.2.2->langgraph) (3.11.3)\n",
            "Requirement already satisfied: annotated-types>=0.6.0 in /usr/local/lib/python3.12/dist-packages (from pydantic>=2.7.4->langgraph) (0.7.0)\n",
            "Requirement already satisfied: pydantic-core==2.33.2 in /usr/local/lib/python3.12/dist-packages (from pydantic>=2.7.4->langgraph) (2.33.2)\n",
            "Requirement already satisfied: typing-inspection>=0.4.0 in /usr/local/lib/python3.12/dist-packages (from pydantic>=2.7.4->langgraph) (0.4.2)\n",
            "Requirement already satisfied: anyio in /usr/local/lib/python3.12/dist-packages (from httpx>=0.25.2->langgraph-sdk<0.3.0,>=0.2.2->langgraph) (4.11.0)\n",
            "Requirement already satisfied: certifi in /usr/local/lib/python3.12/dist-packages (from httpx>=0.25.2->langgraph-sdk<0.3.0,>=0.2.2->langgraph) (2025.10.5)\n",
            "Requirement already satisfied: httpcore==1.* in /usr/local/lib/python3.12/dist-packages (from httpx>=0.25.2->langgraph-sdk<0.3.0,>=0.2.2->langgraph) (1.0.9)\n",
            "Requirement already satisfied: idna in /usr/local/lib/python3.12/dist-packages (from httpx>=0.25.2->langgraph-sdk<0.3.0,>=0.2.2->langgraph) (3.10)\n",
            "Requirement already satisfied: h11>=0.16 in /usr/local/lib/python3.12/dist-packages (from httpcore==1.*->httpx>=0.25.2->langgraph-sdk<0.3.0,>=0.2.2->langgraph) (0.16.0)\n",
            "Requirement already satisfied: jsonpointer>=1.9 in /usr/local/lib/python3.12/dist-packages (from jsonpatch<2.0.0,>=1.33.0->langchain-core>=0.1->langgraph) (3.0.0)\n",
            "Requirement already satisfied: requests-toolbelt>=1.0.0 in /usr/local/lib/python3.12/dist-packages (from langsmith<1.0.0,>=0.3.45->langchain-core>=0.1->langgraph) (1.0.0)\n",
            "Requirement already satisfied: requests>=2.0.0 in /usr/local/lib/python3.12/dist-packages (from langsmith<1.0.0,>=0.3.45->langchain-core>=0.1->langgraph) (2.32.4)\n",
            "Requirement already satisfied: zstandard>=0.23.0 in /usr/local/lib/python3.12/dist-packages (from langsmith<1.0.0,>=0.3.45->langchain-core>=0.1->langgraph) (0.25.0)\n",
            "Requirement already satisfied: charset_normalizer<4,>=2 in /usr/local/lib/python3.12/dist-packages (from requests>=2.0.0->langsmith<1.0.0,>=0.3.45->langchain-core>=0.1->langgraph) (3.4.3)\n",
            "Requirement already satisfied: urllib3<3,>=1.21.1 in /usr/local/lib/python3.12/dist-packages (from requests>=2.0.0->langsmith<1.0.0,>=0.3.45->langchain-core>=0.1->langgraph) (2.5.0)\n",
            "Requirement already satisfied: sniffio>=1.1 in /usr/local/lib/python3.12/dist-packages (from anyio->httpx>=0.25.2->langgraph-sdk<0.3.0,>=0.2.2->langgraph) (1.3.1)\n",
            "Downloading langgraph-0.6.10-py3-none-any.whl (155 kB)\n",
            "\u001b[2K   \u001b[90m━━━━━━━━━━━━━━━━━━━━━━━━━━━━━━━━━━━━━━━━\u001b[0m \u001b[32m155.4/155.4 kB\u001b[0m \u001b[31m5.1 MB/s\u001b[0m eta \u001b[36m0:00:00\u001b[0m\n",
            "\u001b[?25hDownloading langgraph_checkpoint-2.1.2-py3-none-any.whl (45 kB)\n",
            "\u001b[2K   \u001b[90m━━━━━━━━━━━━━━━━━━━━━━━━━━━━━━━━━━━━━━━━\u001b[0m \u001b[32m45.8/45.8 kB\u001b[0m \u001b[31m3.1 MB/s\u001b[0m eta \u001b[36m0:00:00\u001b[0m\n",
            "\u001b[?25hDownloading langgraph_prebuilt-0.6.4-py3-none-any.whl (28 kB)\n",
            "Downloading langgraph_sdk-0.2.9-py3-none-any.whl (56 kB)\n",
            "\u001b[2K   \u001b[90m━━━━━━━━━━━━━━━━━━━━━━━━━━━━━━━━━━━━━━━━\u001b[0m \u001b[32m56.8/56.8 kB\u001b[0m \u001b[31m4.2 MB/s\u001b[0m eta \u001b[36m0:00:00\u001b[0m\n",
            "\u001b[?25hDownloading ormsgpack-1.11.0-cp312-cp312-manylinux_2_17_x86_64.manylinux2014_x86_64.whl (207 kB)\n",
            "\u001b[2K   \u001b[90m━━━━━━━━━━━━━━━━━━━━━━━━━━━━━━━━━━━━━━━━\u001b[0m \u001b[32m207.6/207.6 kB\u001b[0m \u001b[31m8.9 MB/s\u001b[0m eta \u001b[36m0:00:00\u001b[0m\n",
            "\u001b[?25hInstalling collected packages: ormsgpack, langgraph-sdk, langgraph-checkpoint, langgraph-prebuilt, langgraph\n",
            "Successfully installed langgraph-0.6.10 langgraph-checkpoint-2.1.2 langgraph-prebuilt-0.6.4 langgraph-sdk-0.2.9 ormsgpack-1.11.0\n"
          ]
        }
      ]
    },
    {
      "cell_type": "code",
      "metadata": {
        "colab": {
          "base_uri": "https://localhost:8080/"
        },
        "collapsed": true,
        "id": "6d940ef3",
        "outputId": "29cf55d5-b451-4e69-fbd4-327b39d77a76"
      },
      "source": [
        "%pip install langchain-openai"
      ],
      "id": "6d940ef3",
      "execution_count": 4,
      "outputs": [
        {
          "output_type": "stream",
          "name": "stdout",
          "text": [
            "Collecting langchain-openai\n",
            "  Downloading langchain_openai-0.3.35-py3-none-any.whl.metadata (2.4 kB)\n",
            "Requirement already satisfied: langchain-core<1.0.0,>=0.3.78 in /usr/local/lib/python3.12/dist-packages (from langchain-openai) (0.3.78)\n",
            "Requirement already satisfied: openai<3.0.0,>=1.104.2 in /usr/local/lib/python3.12/dist-packages (from langchain-openai) (1.109.1)\n",
            "Requirement already satisfied: tiktoken<1.0.0,>=0.7.0 in /usr/local/lib/python3.12/dist-packages (from langchain-openai) (0.12.0)\n",
            "Requirement already satisfied: langsmith<1.0.0,>=0.3.45 in /usr/local/lib/python3.12/dist-packages (from langchain-core<1.0.0,>=0.3.78->langchain-openai) (0.4.33)\n",
            "Requirement already satisfied: tenacity!=8.4.0,<10.0.0,>=8.1.0 in /usr/local/lib/python3.12/dist-packages (from langchain-core<1.0.0,>=0.3.78->langchain-openai) (8.5.0)\n",
            "Requirement already satisfied: jsonpatch<2.0.0,>=1.33.0 in /usr/local/lib/python3.12/dist-packages (from langchain-core<1.0.0,>=0.3.78->langchain-openai) (1.33)\n",
            "Requirement already satisfied: PyYAML<7.0.0,>=5.3.0 in /usr/local/lib/python3.12/dist-packages (from langchain-core<1.0.0,>=0.3.78->langchain-openai) (6.0.3)\n",
            "Requirement already satisfied: typing-extensions<5.0.0,>=4.7.0 in /usr/local/lib/python3.12/dist-packages (from langchain-core<1.0.0,>=0.3.78->langchain-openai) (4.15.0)\n",
            "Requirement already satisfied: packaging<26.0.0,>=23.2.0 in /usr/local/lib/python3.12/dist-packages (from langchain-core<1.0.0,>=0.3.78->langchain-openai) (25.0)\n",
            "Requirement already satisfied: pydantic<3.0.0,>=2.7.4 in /usr/local/lib/python3.12/dist-packages (from langchain-core<1.0.0,>=0.3.78->langchain-openai) (2.11.10)\n",
            "Requirement already satisfied: anyio<5,>=3.5.0 in /usr/local/lib/python3.12/dist-packages (from openai<3.0.0,>=1.104.2->langchain-openai) (4.11.0)\n",
            "Requirement already satisfied: distro<2,>=1.7.0 in /usr/local/lib/python3.12/dist-packages (from openai<3.0.0,>=1.104.2->langchain-openai) (1.9.0)\n",
            "Requirement already satisfied: httpx<1,>=0.23.0 in /usr/local/lib/python3.12/dist-packages (from openai<3.0.0,>=1.104.2->langchain-openai) (0.28.1)\n",
            "Requirement already satisfied: jiter<1,>=0.4.0 in /usr/local/lib/python3.12/dist-packages (from openai<3.0.0,>=1.104.2->langchain-openai) (0.11.0)\n",
            "Requirement already satisfied: sniffio in /usr/local/lib/python3.12/dist-packages (from openai<3.0.0,>=1.104.2->langchain-openai) (1.3.1)\n",
            "Requirement already satisfied: tqdm>4 in /usr/local/lib/python3.12/dist-packages (from openai<3.0.0,>=1.104.2->langchain-openai) (4.67.1)\n",
            "Requirement already satisfied: regex>=2022.1.18 in /usr/local/lib/python3.12/dist-packages (from tiktoken<1.0.0,>=0.7.0->langchain-openai) (2024.11.6)\n",
            "Requirement already satisfied: requests>=2.26.0 in /usr/local/lib/python3.12/dist-packages (from tiktoken<1.0.0,>=0.7.0->langchain-openai) (2.32.4)\n",
            "Requirement already satisfied: idna>=2.8 in /usr/local/lib/python3.12/dist-packages (from anyio<5,>=3.5.0->openai<3.0.0,>=1.104.2->langchain-openai) (3.10)\n",
            "Requirement already satisfied: certifi in /usr/local/lib/python3.12/dist-packages (from httpx<1,>=0.23.0->openai<3.0.0,>=1.104.2->langchain-openai) (2025.10.5)\n",
            "Requirement already satisfied: httpcore==1.* in /usr/local/lib/python3.12/dist-packages (from httpx<1,>=0.23.0->openai<3.0.0,>=1.104.2->langchain-openai) (1.0.9)\n",
            "Requirement already satisfied: h11>=0.16 in /usr/local/lib/python3.12/dist-packages (from httpcore==1.*->httpx<1,>=0.23.0->openai<3.0.0,>=1.104.2->langchain-openai) (0.16.0)\n",
            "Requirement already satisfied: jsonpointer>=1.9 in /usr/local/lib/python3.12/dist-packages (from jsonpatch<2.0.0,>=1.33.0->langchain-core<1.0.0,>=0.3.78->langchain-openai) (3.0.0)\n",
            "Requirement already satisfied: orjson>=3.9.14 in /usr/local/lib/python3.12/dist-packages (from langsmith<1.0.0,>=0.3.45->langchain-core<1.0.0,>=0.3.78->langchain-openai) (3.11.3)\n",
            "Requirement already satisfied: requests-toolbelt>=1.0.0 in /usr/local/lib/python3.12/dist-packages (from langsmith<1.0.0,>=0.3.45->langchain-core<1.0.0,>=0.3.78->langchain-openai) (1.0.0)\n",
            "Requirement already satisfied: zstandard>=0.23.0 in /usr/local/lib/python3.12/dist-packages (from langsmith<1.0.0,>=0.3.45->langchain-core<1.0.0,>=0.3.78->langchain-openai) (0.25.0)\n",
            "Requirement already satisfied: annotated-types>=0.6.0 in /usr/local/lib/python3.12/dist-packages (from pydantic<3.0.0,>=2.7.4->langchain-core<1.0.0,>=0.3.78->langchain-openai) (0.7.0)\n",
            "Requirement already satisfied: pydantic-core==2.33.2 in /usr/local/lib/python3.12/dist-packages (from pydantic<3.0.0,>=2.7.4->langchain-core<1.0.0,>=0.3.78->langchain-openai) (2.33.2)\n",
            "Requirement already satisfied: typing-inspection>=0.4.0 in /usr/local/lib/python3.12/dist-packages (from pydantic<3.0.0,>=2.7.4->langchain-core<1.0.0,>=0.3.78->langchain-openai) (0.4.2)\n",
            "Requirement already satisfied: charset_normalizer<4,>=2 in /usr/local/lib/python3.12/dist-packages (from requests>=2.26.0->tiktoken<1.0.0,>=0.7.0->langchain-openai) (3.4.3)\n",
            "Requirement already satisfied: urllib3<3,>=1.21.1 in /usr/local/lib/python3.12/dist-packages (from requests>=2.26.0->tiktoken<1.0.0,>=0.7.0->langchain-openai) (2.5.0)\n",
            "Downloading langchain_openai-0.3.35-py3-none-any.whl (75 kB)\n",
            "\u001b[2K   \u001b[90m━━━━━━━━━━━━━━━━━━━━━━━━━━━━━━━━━━━━━━━━\u001b[0m \u001b[32m76.0/76.0 kB\u001b[0m \u001b[31m3.0 MB/s\u001b[0m eta \u001b[36m0:00:00\u001b[0m\n",
            "\u001b[?25hInstalling collected packages: langchain-openai\n",
            "Successfully installed langchain-openai-0.3.35\n"
          ]
        }
      ]
    },
    {
      "cell_type": "code",
      "execution_count": 5,
      "id": "1329fdae",
      "metadata": {
        "id": "1329fdae"
      },
      "outputs": [],
      "source": [
        "from langgraph.graph import StateGraph, START, END\n",
        "from langchain_openai import ChatOpenAI\n",
        "from typing import TypedDict\n",
        "from dotenv import load_dotenv"
      ]
    },
    {
      "cell_type": "code",
      "execution_count": 10,
      "id": "397806c4",
      "metadata": {
        "id": "397806c4"
      },
      "outputs": [],
      "source": [
        "# Open AI\n",
        "import os\n",
        "from google.colab import userdata\n",
        "\n",
        "# Load the API key from Colab Secrets\n",
        "openai_api_key = userdata.get('OPENAI_API_KEY')\n",
        "model = ChatOpenAI(api_key=openai_api_key)"
      ]
    },
    {
      "cell_type": "code",
      "execution_count": 11,
      "id": "75ae1707",
      "metadata": {
        "id": "75ae1707"
      },
      "outputs": [],
      "source": [
        "class BlogState(TypedDict):\n",
        "\n",
        "    title: str\n",
        "    outline: str\n",
        "    content: str\n",
        "    evaluate: str"
      ]
    },
    {
      "cell_type": "code",
      "execution_count": 12,
      "id": "4ef1f024",
      "metadata": {
        "id": "4ef1f024"
      },
      "outputs": [],
      "source": [
        "def create_outline(state: BlogState) -> BlogState:\n",
        "\n",
        "    # fetch title\n",
        "    title = state['title']\n",
        "\n",
        "    # call llm gen outline\n",
        "    prompt = f'Generate a detailed outline for a blog on the topic - {title}'\n",
        "    outline = model.invoke(prompt).content\n",
        "\n",
        "    # update state\n",
        "    state['outline'] = outline\n",
        "\n",
        "    return state"
      ]
    },
    {
      "cell_type": "code",
      "execution_count": 13,
      "id": "7bab2346",
      "metadata": {
        "id": "7bab2346"
      },
      "outputs": [],
      "source": [
        "def create_blog(state: BlogState) -> BlogState:\n",
        "\n",
        "    title = state['title']\n",
        "    outline = state['outline']\n",
        "\n",
        "    prompt = f'Write a detailed blog on the title - {title} using the follwing outline \\n {outline}'\n",
        "\n",
        "    content = model.invoke(prompt).content\n",
        "\n",
        "    state['content'] = content\n",
        "\n",
        "    return state"
      ]
    },
    {
      "cell_type": "code",
      "source": [
        "# Create evaluate_blog Function\n",
        "def evaluate_blog(state: BlogState) -> BlogState:\n",
        "\n",
        "    outline = state['outline']\n",
        "    content = state['content']\n",
        "\n",
        "    prompt = f'Based on the outline - {outline}, evaluate the blog content - {content} and provide feedback on how to improve it.'\n",
        "\n",
        "    evaluation = model.invoke(prompt).content\n",
        "    state['evaluate'] = evaluation\n",
        "    return state"
      ],
      "metadata": {
        "id": "1_cfHnpz7ThA"
      },
      "id": "1_cfHnpz7ThA",
      "execution_count": 18,
      "outputs": []
    },
    {
      "cell_type": "code",
      "execution_count": 19,
      "id": "d49ba7c9",
      "metadata": {
        "id": "d49ba7c9"
      },
      "outputs": [],
      "source": [
        "graph = StateGraph(BlogState)\n",
        "\n",
        "# nodes\n",
        "graph.add_node('create_outline', create_outline)\n",
        "graph.add_node('create_blog', create_blog)\n",
        "graph.add_node('evaluate_blog', evaluate_blog)\n",
        "\n",
        "# edges\n",
        "graph.add_edge(START, 'create_outline')\n",
        "graph.add_edge('create_outline', 'create_blog')\n",
        "graph.add_edge('create_blog', 'evaluate_blog')\n",
        "graph.add_edge('evaluate_blog', END)\n",
        "\n",
        "workflow = graph.compile()\n"
      ]
    },
    {
      "cell_type": "code",
      "source": [
        "workflow"
      ],
      "metadata": {
        "colab": {
          "base_uri": "https://localhost:8080/",
          "height": 449
        },
        "id": "kVqG4q067wxn",
        "outputId": "d5fa1c79-5cea-4698-90cf-5a17530d41dc"
      },
      "id": "kVqG4q067wxn",
      "execution_count": 20,
      "outputs": [
        {
          "output_type": "execute_result",
          "data": {
            "text/plain": [
              "<langgraph.graph.state.CompiledStateGraph object at 0x7a4285362e10>"
            ],
            "image/png": "[encoded data removed]"
          },
          "metadata": {},
          "execution_count": 20
        }
      ]
    },
    {
      "cell_type": "code",
      "execution_count": 21,
      "id": "e724fda0",
      "metadata": {
        "colab": {
          "base_uri": "https://localhost:8080/"
        },
        "id": "e724fda0",
        "outputId": "62d85138-801e-4cbe-d643-065988becfbb"
      },
      "outputs": [
        {
          "output_type": "stream",
          "name": "stdout",
          "text": [
            "{'title': 'Rise of AI in India', 'outline': 'I. Introduction\\n   A. Brief overview of the rise of Artificial Intelligence (AI) globally\\n   B. Introduction to the current state of AI in India\\n   C. Statement of purpose for the blog\\n   \\nII. Historical Perspective\\n   A. Timeline of AI advancements in India\\n   B. Key milestones in the development of AI technology in India\\n   C. Impact of international collaborations on the growth of AI in India\\n\\nIII. Current State of AI in India\\n   A. Overview of the AI market in India\\n   B. Key players in the Indian AI industry\\n   C. Government initiatives and policies supporting AI development in India\\n\\nIV. Applications of AI in India\\n   A. AI in healthcare\\n   B. AI in agriculture\\n   C. AI in finance\\n   D. AI in manufacturing\\n   E. AI in education\\n\\nV. Challenges and Opportunities\\n   A. Challenges facing the adoption of AI in India\\n   B. Opportunities for growth and innovation in the Indian AI industry\\n   C. Ethical considerations in the development and deployment of AI technology in India\\n\\nVI. Future Prospects\\n   A. Predictions for the future of AI in India\\n   B. Emerging trends in AI technology in India\\n   C. Potential impact of AI on the Indian economy and society\\n\\nVII. Conclusion\\n   A. Recap of key points discussed in the blog\\n   B. Final thoughts on the rise of AI in India\\n   C. Call to action for readers to stay informed on developments in the Indian AI industry.', 'content': 'I. Introduction\\n\\nArtificial Intelligence (AI) has been a buzzword in the tech industry for quite some time now. The rise of AI globally has paved the way for numerous innovations and advancements in various sectors. In India, the adoption of AI has been steadily increasing, with both private and public sectors investing heavily in AI technology. The purpose of this blog is to explore the current state of AI in India, its historical perspective, applications, challenges, opportunities, and future prospects.\\n\\nII. Historical Perspective\\n\\nIndia has a rich history of AI research and development, dating back to the 1980s. Some key milestones in the development of AI technology in India include the establishment of the Center for Artificial Intelligence and Robotics (CAIR) in Bangalore in 1986 and the formation of the Indian National AI Task Force in 1988. International collaborations with leading AI research institutions and universities have also played a significant role in the growth of AI in India.\\n\\nIII. Current State of AI in India\\n\\nThe AI market in India is flourishing, with a diverse range of players contributing to its growth. Some key players in the Indian AI industry include startups like Niki.ai, Haptik, and GreyOrange, as well as established tech giants like Infosys, Wipro, and TCS. The government of India has also been proactive in supporting AI development through initiatives like the National AI Portal and policies like the National AI Strategy.\\n\\nIV. Applications of AI in India\\n\\nAI is being utilized in various sectors in India, including healthcare, agriculture, finance, manufacturing, and education. In healthcare, AI is being used for diagnostics, personalized medicine, and patient care. In agriculture, AI is helping farmers increase crop yields and optimize resource allocation. In finance, AI is streamlining customer service, fraud detection, and risk management. In manufacturing, AI is driving automation and process optimization. In education, AI is revolutionizing personalized learning and assessment.\\n\\nV. Challenges and Opportunities\\n\\nDespite the rapid advancements in AI technology, there are several challenges facing its adoption in India, such as data privacy concerns, lack of skilled professionals, and ethical considerations. However, there are ample opportunities for growth and innovation in the Indian AI industry, including the potential to impact various sectors positively and drive economic growth. It is essential to address these challenges and leverage these opportunities to realize the full potential of AI in India.\\n\\nVI. Future Prospects\\n\\nThe future of AI in India looks promising, with emerging trends like natural language processing, computer vision, and robotics gaining traction. AI is expected to have a significant impact on the Indian economy and society, driving productivity, efficiency, and innovation. It is crucial for policymakers, businesses, and individuals to stay informed on developments in the Indian AI industry to capitalize on the opportunities that AI presents.\\n\\nVII. Conclusion\\n\\nIn conclusion, the rise of AI in India presents a plethora of opportunities for growth and innovation across various sectors. By understanding the historical perspective, current state, applications, challenges, and opportunities of AI in India, we can better prepare for the future of AI in the country. It is essential for all stakeholders to collaborate and work towards a sustainable and ethical deployment of AI technology in India. Let us all stay informed and engaged in the developments of the Indian AI industry to realize its full potential.'}\n"
          ]
        }
      ],
      "source": [
        "intial_state = {'title': 'Rise of AI in India'}\n",
        "\n",
        "final_state = workflow.invoke(intial_state)\n",
        "\n",
        "print(final_state)"
      ]
    },
    {
      "cell_type": "code",
      "execution_count": 22,
      "id": "bdd8eb97",
      "metadata": {
        "colab": {
          "base_uri": "https://localhost:8080/"
        },
        "id": "bdd8eb97",
        "outputId": "6cec7959-8967-4423-e911-1a7cc5305ff4"
      },
      "outputs": [
        {
          "output_type": "stream",
          "name": "stdout",
          "text": [
            "I. Introduction\n",
            "   A. Brief overview of the rise of Artificial Intelligence (AI) globally\n",
            "   B. Introduction to the current state of AI in India\n",
            "   C. Statement of purpose for the blog\n",
            "   \n",
            "II. Historical Perspective\n",
            "   A. Timeline of AI advancements in India\n",
            "   B. Key milestones in the development of AI technology in India\n",
            "   C. Impact of international collaborations on the growth of AI in India\n",
            "\n",
            "III. Current State of AI in India\n",
            "   A. Overview of the AI market in India\n",
            "   B. Key players in the Indian AI industry\n",
            "   C. Government initiatives and policies supporting AI development in India\n",
            "\n",
            "IV. Applications of AI in India\n",
            "   A. AI in healthcare\n",
            "   B. AI in agriculture\n",
            "   C. AI in finance\n",
            "   D. AI in manufacturing\n",
            "   E. AI in education\n",
            "\n",
            "V. Challenges and Opportunities\n",
            "   A. Challenges facing the adoption of AI in India\n",
            "   B. Opportunities for growth and innovation in the Indian AI industry\n",
            "   C. Ethical considerations in the development and deployment of AI technology in India\n",
            "\n",
            "VI. Future Prospects\n",
            "   A. Predictions for the future of AI in India\n",
            "   B. Emerging trends in AI technology in India\n",
            "   C. Potential impact of AI on the Indian economy and society\n",
            "\n",
            "VII. Conclusion\n",
            "   A. Recap of key points discussed in the blog\n",
            "   B. Final thoughts on the rise of AI in India\n",
            "   C. Call to action for readers to stay informed on developments in the Indian AI industry.\n"
          ]
        }
      ],
      "source": [
        "print(final_state['outline'])"
      ]
    },
    {
      "cell_type": "code",
      "execution_count": 23,
      "id": "e38569eb",
      "metadata": {
        "colab": {
          "base_uri": "https://localhost:8080/"
        },
        "id": "e38569eb",
        "outputId": "d5c07380-508e-4b84-ed3f-e6403696277d"
      },
      "outputs": [
        {
          "output_type": "stream",
          "name": "stdout",
          "text": [
            "I. Introduction\n",
            "\n",
            "Artificial Intelligence (AI) has been a buzzword in the tech industry for quite some time now. The rise of AI globally has paved the way for numerous innovations and advancements in various sectors. In India, the adoption of AI has been steadily increasing, with both private and public sectors investing heavily in AI technology. The purpose of this blog is to explore the current state of AI in India, its historical perspective, applications, challenges, opportunities, and future prospects.\n",
            "\n",
            "II. Historical Perspective\n",
            "\n",
            "India has a rich history of AI research and development, dating back to the 1980s. Some key milestones in the development of AI technology in India include the establishment of the Center for Artificial Intelligence and Robotics (CAIR) in Bangalore in 1986 and the formation of the Indian National AI Task Force in 1988. International collaborations with leading AI research institutions and universities have also played a significant role in the growth of AI in India.\n",
            "\n",
            "III. Current State of AI in India\n",
            "\n",
            "The AI market in India is flourishing, with a diverse range of players contributing to its growth. Some key players in the Indian AI industry include startups like Niki.ai, Haptik, and GreyOrange, as well as established tech giants like Infosys, Wipro, and TCS. The government of India has also been proactive in supporting AI development through initiatives like the National AI Portal and policies like the National AI Strategy.\n",
            "\n",
            "IV. Applications of AI in India\n",
            "\n",
            "AI is being utilized in various sectors in India, including healthcare, agriculture, finance, manufacturing, and education. In healthcare, AI is being used for diagnostics, personalized medicine, and patient care. In agriculture, AI is helping farmers increase crop yields and optimize resource allocation. In finance, AI is streamlining customer service, fraud detection, and risk management. In manufacturing, AI is driving automation and process optimization. In education, AI is revolutionizing personalized learning and assessment.\n",
            "\n",
            "V. Challenges and Opportunities\n",
            "\n",
            "Despite the rapid advancements in AI technology, there are several challenges facing its adoption in India, such as data privacy concerns, lack of skilled professionals, and ethical considerations. However, there are ample opportunities for growth and innovation in the Indian AI industry, including the potential to impact various sectors positively and drive economic growth. It is essential to address these challenges and leverage these opportunities to realize the full potential of AI in India.\n",
            "\n",
            "VI. Future Prospects\n",
            "\n",
            "The future of AI in India looks promising, with emerging trends like natural language processing, computer vision, and robotics gaining traction. AI is expected to have a significant impact on the Indian economy and society, driving productivity, efficiency, and innovation. It is crucial for policymakers, businesses, and individuals to stay informed on developments in the Indian AI industry to capitalize on the opportunities that AI presents.\n",
            "\n",
            "VII. Conclusion\n",
            "\n",
            "In conclusion, the rise of AI in India presents a plethora of opportunities for growth and innovation across various sectors. By understanding the historical perspective, current state, applications, challenges, and opportunities of AI in India, we can better prepare for the future of AI in the country. It is essential for all stakeholders to collaborate and work towards a sustainable and ethical deployment of AI technology in India. Let us all stay informed and engaged in the developments of the Indian AI industry to realize its full potential.\n"
          ]
        }
      ],
      "source": [
        "print(final_state['content'])"
      ]
    },
    {
      "cell_type": "code",
      "execution_count": null,
      "id": "ca21b153",
      "metadata": {
        "id": "ca21b153"
      },
      "outputs": [],
      "source": []
    }
  ],
  "metadata": {
    "kernelspec": {
      "display_name": "myenv",
      "language": "python",
      "name": "python3"
    },
    "language_info": {
      "codemirror_mode": {
        "name": "ipython",
        "version": 3
      },
      "file_extension": ".py",
      "mimetype": "text/x-python",
      "name": "python",
      "nbconvert_exporter": "python",
      "pygments_lexer": "ipython3",
      "version": "3.11.0"
    },
    "colab": {
      "provenance": []
    }
  },
  "nbformat": 4,
  "nbformat_minor": 5
}